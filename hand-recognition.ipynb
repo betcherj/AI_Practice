{
 "cells": [
  {
   "cell_type": "code",
   "execution_count": 1,
   "id": "bee8e362",
   "metadata": {
    "execution": {
     "iopub.execute_input": "2023-03-27T18:47:27.795093Z",
     "iopub.status.busy": "2023-03-27T18:47:27.794573Z",
     "iopub.status.idle": "2023-03-27T18:47:27.800568Z",
     "shell.execute_reply": "2023-03-27T18:47:27.799497Z"
    },
    "papermill": {
     "duration": 0.016264,
     "end_time": "2023-03-27T18:47:27.804184",
     "exception": false,
     "start_time": "2023-03-27T18:47:27.787920",
     "status": "completed"
    },
    "tags": []
   },
   "outputs": [],
   "source": [
    "# !pip install tensorflow_model_optimization "
   ]
  },
  {
   "cell_type": "markdown",
   "id": "8d867702",
   "metadata": {
    "papermill": {
     "duration": 0.003328,
     "end_time": "2023-03-27T18:47:27.811414",
     "exception": false,
     "start_time": "2023-03-27T18:47:27.808086",
     "status": "completed"
    },
    "tags": []
   },
   "source": [
    "# DNN for Hand Recognition\n",
    "\n",
    "TODO: \n",
    "1. Optimize hyperparams \n",
    "2. Filter outliers in training data \n",
    "3. Data Augmentation"
   ]
  },
  {
   "cell_type": "markdown",
   "id": "3f56e428",
   "metadata": {
    "papermill": {
     "duration": 0.003504,
     "end_time": "2023-03-27T18:47:27.818400",
     "exception": false,
     "start_time": "2023-03-27T18:47:27.814896",
     "status": "completed"
    },
    "tags": []
   },
   "source": [
    "# Imports and Training Params"
   ]
  },
  {
   "cell_type": "code",
   "execution_count": 2,
   "id": "d4c1d1b4",
   "metadata": {
    "execution": {
     "iopub.execute_input": "2023-03-27T18:47:27.826718Z",
     "iopub.status.busy": "2023-03-27T18:47:27.826374Z",
     "iopub.status.idle": "2023-03-27T18:47:35.487605Z",
     "shell.execute_reply": "2023-03-27T18:47:35.486352Z"
    },
    "papermill": {
     "duration": 7.668512,
     "end_time": "2023-03-27T18:47:35.490485",
     "exception": false,
     "start_time": "2023-03-27T18:47:27.821973",
     "status": "completed"
    },
    "tags": []
   },
   "outputs": [],
   "source": [
    "import numpy as np\n",
    "import pandas as pd\n",
    "import tensorflow as tf\n",
    "from tqdm.notebook import tqdm\n",
    "import matplotlib.pyplot as plt\n",
    "# import tensorflow_model_optimization as tfmot\n",
    "import json\n",
    "import zipfile\n",
    "import os\n",
    "import gc\n",
    "import warnings\n",
    "from sklearn.model_selection import train_test_split\n",
    "from tensorflow.keras.callbacks import EarlyStopping, ReduceLROnPlateau\n",
    "\n",
    "BASE_TRAIN_PATH = \"/kaggle/input/asl-signs/\"\n",
    "TRAIN_FILE = \"/kaggle/input/asl-signs/train.csv\"\n",
    "INDEX_MAP_FILE = '/kaggle/input/asl-signs/sign_to_prediction_index_map.json'\n",
    "MODEL_OUT_PATH = '/kaggle/working/modelie'\n",
    "\n",
    "INFERENCE_MODEL_OUT_PATH = '/kaggle/working/inference-model/modelie'\n",
    "ZIPPED_SUBMISSION_OUT_PATH = '/kaggle/working/submission.zip'\n",
    "CHECK_POINT_PATH = 'kaggle/working/check-point/cp.ckpt'\n",
    "data_columns = ['x', 'y', 'z']\n",
    "\n",
    "epochs = 200\n",
    "batch_size = 300\n",
    "\n",
    "training = True\n",
    "rows_per_frame = 543 #Number of landmarks per frame \n",
    "num_classes = 250 \n",
    "filter_outliers = True \n",
    "dropout_rate = .3\n",
    "\n",
    "max_length = 30 # length that input is padded/truncated to \n",
    "\n",
    "warnings.filterwarnings(\"ignore\", category=np.VisibleDeprecationWarning) \n",
    "\n",
    "NUM_FRAMES = 15\n",
    "SEGMENTS = 3\n",
    "\n",
    "LEFT_HAND_OFFSET = 468\n",
    "POSE_OFFSET = LEFT_HAND_OFFSET+21\n",
    "RIGHT_HAND_OFFSET = POSE_OFFSET+33\n",
    "ROWS_PER_FRAME = 543\n",
    "\n",
    "lip_landmarks = [61, 185, 40, 39, 37,  0, 267, 269, 270, 409,\n",
    "                 291,146, 91,181, 84, 17, 314, 405, 321, 375, \n",
    "                 78, 191, 80, 81, 82, 13, 312, 311, 310, 415, \n",
    "                 95, 88, 178, 87, 14,317, 402, 318, 324, 308]\n",
    "\n",
    "left_hand_landmarks = list(range(LEFT_HAND_OFFSET, LEFT_HAND_OFFSET+21))\n",
    "right_hand_landmarks = list(range(RIGHT_HAND_OFFSET, RIGHT_HAND_OFFSET+21))\n",
    "\n",
    "point_landmarks = [item for sublist in [lip_landmarks, left_hand_landmarks, right_hand_landmarks] for item in sublist]"
   ]
  },
  {
   "cell_type": "markdown",
   "id": "e1d3933b",
   "metadata": {
    "papermill": {
     "duration": 0.003385,
     "end_time": "2023-03-27T18:47:35.497683",
     "exception": false,
     "start_time": "2023-03-27T18:47:35.494298",
     "status": "completed"
    },
    "tags": []
   },
   "source": [
    "## Data Loading\n",
    "\n",
    "Mean: 37.935\n",
    "\n",
    "\n",
    "Median: 22\n",
    "\n",
    "\n",
    "StdDev: 44.177\n",
    "\n",
    "Max Frames: 537\n",
    "\n",
    "\n",
    "Min Frames: 2"
   ]
  },
  {
   "cell_type": "code",
   "execution_count": 3,
   "id": "83f16496",
   "metadata": {
    "execution": {
     "iopub.execute_input": "2023-03-27T18:47:35.506495Z",
     "iopub.status.busy": "2023-03-27T18:47:35.505824Z",
     "iopub.status.idle": "2023-03-27T19:15:51.976823Z",
     "shell.execute_reply": "2023-03-27T19:15:51.975705Z"
    },
    "papermill": {
     "duration": 1696.478607,
     "end_time": "2023-03-27T19:15:51.979652",
     "exception": false,
     "start_time": "2023-03-27T18:47:35.501045",
     "status": "completed"
    },
    "tags": []
   },
   "outputs": [
    {
     "data": {
      "application/vnd.jupyter.widget-view+json": {
       "model_id": "4734b21cb5364d6aaf4e1f044bb4adc2",
       "version_major": 2,
       "version_minor": 0
      },
      "text/plain": [
       "  0%|          | 0/94477 [00:00<?, ?it/s]"
      ]
     },
     "metadata": {},
     "output_type": "display_data"
    },
    {
     "name": "stderr",
     "output_type": "stream",
     "text": [
      "/opt/conda/lib/python3.7/site-packages/ipykernel_launcher.py:21: RuntimeWarning: invalid value encountered in true_divide\n"
     ]
    },
    {
     "data": {
      "text/plain": [
       "70"
      ]
     },
     "execution_count": 3,
     "metadata": {},
     "output_type": "execute_result"
    }
   ],
   "source": [
    "train = pd.read_csv(TRAIN_FILE)\n",
    "with open(INDEX_MAP_FILE, 'r') as f: \n",
    "    index_map = json.load(f)\n",
    "\n",
    "train['label'] = train['sign'].map(lambda x: index_map[x])\n",
    "\n",
    "x_ragged = []\n",
    "y =  []\n",
    "\n",
    "for i in tqdm(range(int(len(train)))):    \n",
    "    data = pd.read_parquet(os.path.join(BASE_TRAIN_PATH, train.iloc[i].path), columns=data_columns)\n",
    "    \n",
    "    data.fillna(0, inplace=True)\n",
    "    \n",
    "    n = int(len(data)/rows_per_frame)\n",
    "        \n",
    "    data = data.values.reshape(n, rows_per_frame, len(data_columns)).astype(np.float32)\n",
    "    data = data[:, point_landmarks, :] # filter for the relevant pose landmarks \n",
    "    \n",
    "    data = data - np.nanmean(data, 0, keepdims=True) #normalisation to common mean and std\n",
    "    data = data / np.nanstd(data, 0, keepdims=True)\n",
    "    \n",
    "    data = np.nan_to_num(data)\n",
    "    \n",
    "    data = np.reshape(data, (n, len(point_landmarks)*3), order = 'C').astype(np.float32)\n",
    "    \n",
    "    x_ragged.append(data)\n",
    "    \n",
    "    y.append(train.iloc[i].label)\n",
    "\n",
    "\n",
    "x_ragged = np.array(x_ragged)\n",
    "\n",
    "y = np.array(y)\n",
    "\n",
    "x = tf.keras.utils.pad_sequences(x_ragged, padding=\"post\", truncating=\"post\", maxlen = max_length, dtype=np.float32)\n",
    "\n",
    "del x_ragged \n",
    "gc.collect()"
   ]
  },
  {
   "cell_type": "code",
   "execution_count": 4,
   "id": "dfa78112",
   "metadata": {
    "execution": {
     "iopub.execute_input": "2023-03-27T19:15:51.989184Z",
     "iopub.status.busy": "2023-03-27T19:15:51.988881Z",
     "iopub.status.idle": "2023-03-27T19:16:14.209093Z",
     "shell.execute_reply": "2023-03-27T19:16:14.207891Z"
    },
    "papermill": {
     "duration": 22.22801,
     "end_time": "2023-03-27T19:16:14.211884",
     "exception": false,
     "start_time": "2023-03-27T19:15:51.983874",
     "status": "completed"
    },
    "tags": []
   },
   "outputs": [
    {
     "data": {
      "text/plain": [
       "13653"
      ]
     },
     "execution_count": 4,
     "metadata": {},
     "output_type": "execute_result"
    }
   ],
   "source": [
    "def get_model(x, y): \n",
    "    model = tf.keras.Sequential([\n",
    "        # the hidden ReLU layers\n",
    "        tf.keras.Input(shape=(max_length, len(point_landmarks)*3), dtype=np.float32), \n",
    "        tf.keras.layers.Masking(mask_value=0, input_shape=(max_length, len(point_landmarks)*3)),\n",
    "        tf.keras.layers.Dense(units=256, activation='relu'), # Generally want hidden layers to be between the size of the input and output layers \n",
    "        tf.keras.layers.Dropout(dropout_rate),\n",
    "        tf.keras.layers.LayerNormalization(), \n",
    "        tf.keras.layers.Dense(units=256, activation='relu'),\n",
    "        tf.keras.layers.Dropout(dropout_rate),\n",
    "        tf.keras.layers.LSTM(256),\n",
    "        tf.keras.layers.Dropout(dropout_rate),\n",
    "        tf.keras.layers.LayerNormalization(),\n",
    "        tf.keras.layers.Flatten(),\n",
    "        # the linear output layer \n",
    "        tf.keras.layers.Dense(units = num_classes, activation='softmax', name='outie'), # Output size is <256>\n",
    "    ])\n",
    "    model.compile(optimizer = \"adam\", loss=\"sparse_categorical_crossentropy\", metrics=[\"accuracy\"])\n",
    "    return model \n",
    "\n",
    "model = get_model(x,y) \n",
    "\n",
    "if training: \n",
    "    X_train, X_test, Y_train, Y_test = train_test_split(x, y, test_size=0.2, random_state=1)\n",
    "\n",
    "    X_train, X_val, Y_train, Y_val = train_test_split(X_train, Y_train, test_size=0.25, random_state=1) \n",
    "    \n",
    "del x , y\n",
    "gc.collect()"
   ]
  },
  {
   "cell_type": "code",
   "execution_count": 5,
   "id": "b2299a60",
   "metadata": {
    "execution": {
     "iopub.execute_input": "2023-03-27T19:16:14.223042Z",
     "iopub.status.busy": "2023-03-27T19:16:14.221329Z",
     "iopub.status.idle": "2023-03-27T19:20:50.200394Z",
     "shell.execute_reply": "2023-03-27T19:20:50.198914Z"
    },
    "papermill": {
     "duration": 275.987584,
     "end_time": "2023-03-27T19:20:50.203705",
     "exception": false,
     "start_time": "2023-03-27T19:16:14.216121",
     "status": "completed"
    },
    "tags": []
   },
   "outputs": [
    {
     "name": "stdout",
     "output_type": "stream",
     "text": [
      "Epoch 1/200\n",
      "189/189 [==============================] - 20s 43ms/step - loss: 5.6899 - accuracy: 0.0046 - val_loss: 5.5135 - val_accuracy: 0.0078 - lr: 0.0010\n",
      "Epoch 2/200\n",
      "189/189 [==============================] - 5s 26ms/step - loss: 5.5362 - accuracy: 0.0082 - val_loss: 5.3430 - val_accuracy: 0.0144 - lr: 0.0010\n",
      "Epoch 3/200\n",
      "189/189 [==============================] - 6s 30ms/step - loss: 5.3129 - accuracy: 0.0180 - val_loss: 5.1389 - val_accuracy: 0.0318 - lr: 0.0010\n",
      "Epoch 4/200\n",
      "189/189 [==============================] - 5s 27ms/step - loss: 5.0411 - accuracy: 0.0401 - val_loss: 4.7843 - val_accuracy: 0.0641 - lr: 0.0010\n",
      "Epoch 5/200\n",
      "189/189 [==============================] - 5s 26ms/step - loss: 4.6682 - accuracy: 0.0777 - val_loss: 4.4268 - val_accuracy: 0.1120 - lr: 0.0010\n",
      "Epoch 6/200\n",
      "189/189 [==============================] - 5s 25ms/step - loss: 4.3343 - accuracy: 0.1174 - val_loss: 4.1292 - val_accuracy: 0.1506 - lr: 0.0010\n",
      "Epoch 7/200\n",
      "189/189 [==============================] - 6s 30ms/step - loss: 4.0556 - accuracy: 0.1566 - val_loss: 4.0117 - val_accuracy: 0.1707 - lr: 0.0010\n",
      "Epoch 8/200\n",
      "189/189 [==============================] - 5s 25ms/step - loss: 3.8256 - accuracy: 0.1901 - val_loss: 3.8068 - val_accuracy: 0.2041 - lr: 0.0010\n",
      "Epoch 9/200\n",
      "189/189 [==============================] - 5s 26ms/step - loss: 3.6407 - accuracy: 0.2185 - val_loss: 3.6511 - val_accuracy: 0.2302 - lr: 0.0010\n",
      "Epoch 10/200\n",
      "189/189 [==============================] - 5s 27ms/step - loss: 3.4704 - accuracy: 0.2484 - val_loss: 3.5870 - val_accuracy: 0.2438 - lr: 0.0010\n",
      "Epoch 11/200\n",
      "189/189 [==============================] - 5s 26ms/step - loss: 3.3384 - accuracy: 0.2678 - val_loss: 3.5271 - val_accuracy: 0.2539 - lr: 0.0010\n",
      "Epoch 12/200\n",
      "189/189 [==============================] - 5s 27ms/step - loss: 3.2119 - accuracy: 0.2892 - val_loss: 3.4698 - val_accuracy: 0.2680 - lr: 0.0010\n",
      "Epoch 13/200\n",
      "189/189 [==============================] - 5s 29ms/step - loss: 3.0913 - accuracy: 0.3087 - val_loss: 3.4174 - val_accuracy: 0.2786 - lr: 0.0010\n",
      "Epoch 14/200\n",
      "189/189 [==============================] - 5s 26ms/step - loss: 2.9972 - accuracy: 0.3259 - val_loss: 3.3818 - val_accuracy: 0.2861 - lr: 0.0010\n",
      "Epoch 15/200\n",
      "189/189 [==============================] - 5s 26ms/step - loss: 2.9016 - accuracy: 0.3419 - val_loss: 3.3484 - val_accuracy: 0.2958 - lr: 0.0010\n",
      "Epoch 16/200\n",
      "189/189 [==============================] - 6s 30ms/step - loss: 2.8202 - accuracy: 0.3567 - val_loss: 3.3375 - val_accuracy: 0.2979 - lr: 0.0010\n",
      "Epoch 17/200\n",
      "189/189 [==============================] - 5s 26ms/step - loss: 2.7513 - accuracy: 0.3712 - val_loss: 3.3105 - val_accuracy: 0.3093 - lr: 0.0010\n",
      "Epoch 18/200\n",
      "189/189 [==============================] - 5s 26ms/step - loss: 2.6671 - accuracy: 0.3870 - val_loss: 3.3274 - val_accuracy: 0.3072 - lr: 0.0010\n",
      "Epoch 19/200\n",
      "189/189 [==============================] - 5s 28ms/step - loss: 2.6037 - accuracy: 0.3990 - val_loss: 3.3109 - val_accuracy: 0.3139 - lr: 0.0010\n",
      "Epoch 20/200\n",
      "189/189 [==============================] - 6s 30ms/step - loss: 2.5533 - accuracy: 0.4068 - val_loss: 3.3049 - val_accuracy: 0.3172 - lr: 0.0010\n",
      "Epoch 21/200\n",
      "189/189 [==============================] - 5s 26ms/step - loss: 2.4932 - accuracy: 0.4189 - val_loss: 3.3010 - val_accuracy: 0.3176 - lr: 0.0010\n",
      "Epoch 22/200\n",
      "189/189 [==============================] - 6s 29ms/step - loss: 2.4429 - accuracy: 0.4280 - val_loss: 3.3320 - val_accuracy: 0.3209 - lr: 0.0010\n",
      "Epoch 23/200\n",
      "189/189 [==============================] - 5s 26ms/step - loss: 2.3971 - accuracy: 0.4360 - val_loss: 3.3323 - val_accuracy: 0.3200 - lr: 0.0010\n",
      "Epoch 24/200\n",
      "189/189 [==============================] - 5s 29ms/step - loss: 2.3481 - accuracy: 0.4443 - val_loss: 3.3696 - val_accuracy: 0.3198 - lr: 0.0010\n",
      "Epoch 25/200\n",
      "189/189 [==============================] - 5s 25ms/step - loss: 2.3057 - accuracy: 0.4550 - val_loss: 3.3269 - val_accuracy: 0.3243 - lr: 0.0010\n",
      "Epoch 26/200\n",
      "189/189 [==============================] - 5s 25ms/step - loss: 2.2686 - accuracy: 0.4611 - val_loss: 3.3171 - val_accuracy: 0.3293 - lr: 0.0010\n",
      "Epoch 27/200\n",
      "189/189 [==============================] - 6s 29ms/step - loss: 2.2288 - accuracy: 0.4682 - val_loss: 3.3924 - val_accuracy: 0.3214 - lr: 0.0010\n",
      "Epoch 28/200\n",
      "189/189 [==============================] - 5s 25ms/step - loss: 2.1765 - accuracy: 0.4777 - val_loss: 3.3536 - val_accuracy: 0.3276 - lr: 0.0010\n",
      "Epoch 29/200\n",
      "189/189 [==============================] - 6s 31ms/step - loss: 2.1418 - accuracy: 0.4816 - val_loss: 3.3692 - val_accuracy: 0.3283 - lr: 0.0010\n",
      "Epoch 30/200\n",
      "189/189 [==============================] - 5s 28ms/step - loss: 2.1160 - accuracy: 0.4928 - val_loss: 3.3922 - val_accuracy: 0.3272 - lr: 0.0010\n",
      "Epoch 31/200\n",
      "189/189 [==============================] - 6s 29ms/step - loss: 2.0719 - accuracy: 0.4999 - val_loss: 3.3705 - val_accuracy: 0.3325 - lr: 0.0010\n",
      "Epoch 32/200\n",
      "189/189 [==============================] - 5s 26ms/step - loss: 2.0495 - accuracy: 0.5038 - val_loss: 3.3947 - val_accuracy: 0.3311 - lr: 0.0010\n",
      "Epoch 33/200\n",
      "189/189 [==============================] - 5s 26ms/step - loss: 2.0242 - accuracy: 0.5075 - val_loss: 3.4075 - val_accuracy: 0.3302 - lr: 0.0010\n",
      "Epoch 34/200\n",
      "189/189 [==============================] - 5s 29ms/step - loss: 1.9970 - accuracy: 0.5130 - val_loss: 3.4200 - val_accuracy: 0.3341 - lr: 0.0010\n",
      "Epoch 35/200\n",
      "189/189 [==============================] - 6s 31ms/step - loss: 1.9657 - accuracy: 0.5217 - val_loss: 3.4363 - val_accuracy: 0.3298 - lr: 0.0010\n",
      "Epoch 36/200\n",
      "189/189 [==============================] - 5s 28ms/step - loss: 1.9414 - accuracy: 0.5239 - val_loss: 3.4427 - val_accuracy: 0.3356 - lr: 0.0010\n",
      "Epoch 37/200\n",
      "189/189 [==============================] - 5s 26ms/step - loss: 1.9081 - accuracy: 0.5291 - val_loss: 3.4998 - val_accuracy: 0.3263 - lr: 0.0010\n",
      "Epoch 38/200\n",
      "189/189 [==============================] - 5s 28ms/step - loss: 1.8957 - accuracy: 0.5341 - val_loss: 3.4706 - val_accuracy: 0.3298 - lr: 0.0010\n",
      "Epoch 39/200\n",
      "189/189 [==============================] - 5s 26ms/step - loss: 1.8692 - accuracy: 0.5402 - val_loss: 3.5088 - val_accuracy: 0.3287 - lr: 0.0010\n",
      "Epoch 40/200\n",
      "189/189 [==============================] - 5s 28ms/step - loss: 1.8437 - accuracy: 0.5455 - val_loss: 3.5134 - val_accuracy: 0.3341 - lr: 0.0010\n",
      "Epoch 41/200\n",
      "189/189 [==============================] - 6s 30ms/step - loss: 1.8284 - accuracy: 0.5485 - val_loss: 3.4984 - val_accuracy: 0.3367 - lr: 0.0010\n",
      "Epoch 42/200\n",
      "189/189 [==============================] - 5s 25ms/step - loss: 1.8036 - accuracy: 0.5530 - val_loss: 3.5153 - val_accuracy: 0.3326 - lr: 0.0010\n",
      "Epoch 43/200\n",
      "189/189 [==============================] - 5s 29ms/step - loss: 1.7979 - accuracy: 0.5547 - val_loss: 3.5402 - val_accuracy: 0.3289 - lr: 0.0010\n",
      "Epoch 44/200\n",
      "189/189 [==============================] - 5s 29ms/step - loss: 1.7696 - accuracy: 0.5577 - val_loss: 3.5528 - val_accuracy: 0.3337 - lr: 0.0010\n",
      "Epoch 45/200\n",
      "189/189 [==============================] - 5s 26ms/step - loss: 1.7453 - accuracy: 0.5663 - val_loss: 3.5717 - val_accuracy: 0.3286 - lr: 0.0010\n",
      "Epoch 46/200\n",
      "189/189 [==============================] - 5s 28ms/step - loss: 1.7402 - accuracy: 0.5651 - val_loss: 3.5796 - val_accuracy: 0.3310 - lr: 0.0010\n",
      "591/591 - 3s - loss: 3.4984 - accuracy: 0.3367 - 3s/epoch - 5ms/step\n",
      "Restored model, accuracy: 33.67%\n"
     ]
    }
   ],
   "source": [
    "callbacks = [\n",
    "        EarlyStopping(\n",
    "                monitor = \"val_accuracy\",\n",
    "                min_delta = 0, # minimium amount of change to count as an improvement\n",
    "                patience = 5, # how many epochs to wait before stopping\n",
    "                restore_best_weights=True),\n",
    "    \n",
    "        ReduceLROnPlateau(monitor = \"val_accuracy\",\n",
    "            factor = 0.5,\n",
    "            patience = 5)\n",
    "            ]\n",
    "\n",
    "history = model.fit(X_train, Y_train, \n",
    "              batch_size=batch_size, \n",
    "              epochs=epochs,\n",
    "              validation_data = (X_val, Y_val), \n",
    "              callbacks=[callbacks])\n",
    "\n",
    "loss, acc = model.evaluate(X_val, Y_val, verbose=2)\n",
    "print(\"Restored model, accuracy: {:5.2f}%\".format(100 * acc))"
   ]
  },
  {
   "cell_type": "code",
   "execution_count": 6,
   "id": "fd8fba5b",
   "metadata": {
    "execution": {
     "iopub.execute_input": "2023-03-27T19:20:50.551139Z",
     "iopub.status.busy": "2023-03-27T19:20:50.549860Z",
     "iopub.status.idle": "2023-03-27T19:20:50.591840Z",
     "shell.execute_reply": "2023-03-27T19:20:50.590604Z"
    },
    "papermill": {
     "duration": 0.234938,
     "end_time": "2023-03-27T19:20:50.610510",
     "exception": false,
     "start_time": "2023-03-27T19:20:50.375572",
     "status": "completed"
    },
    "tags": []
   },
   "outputs": [
    {
     "name": "stdout",
     "output_type": "stream",
     "text": [
      "Model: \"sequential\"\n",
      "_________________________________________________________________\n",
      " Layer (type)                Output Shape              Param #   \n",
      "=================================================================\n",
      " masking (Masking)           (None, 30, 246)           0         \n",
      "                                                                 \n",
      " dense (Dense)               (None, 30, 256)           63232     \n",
      "                                                                 \n",
      " dropout (Dropout)           (None, 30, 256)           0         \n",
      "                                                                 \n",
      " layer_normalization (LayerN  (None, 30, 256)          512       \n",
      " ormalization)                                                   \n",
      "                                                                 \n",
      " dense_1 (Dense)             (None, 30, 256)           65792     \n",
      "                                                                 \n",
      " dropout_1 (Dropout)         (None, 30, 256)           0         \n",
      "                                                                 \n",
      " lstm (LSTM)                 (None, 256)               525312    \n",
      "                                                                 \n",
      " dropout_2 (Dropout)         (None, 256)               0         \n",
      "                                                                 \n",
      " layer_normalization_1 (Laye  (None, 256)              512       \n",
      " rNormalization)                                                 \n",
      "                                                                 \n",
      " flatten (Flatten)           (None, 256)               0         \n",
      "                                                                 \n",
      " outie (Dense)               (None, 250)               64250     \n",
      "                                                                 \n",
      "=================================================================\n",
      "Total params: 719,610\n",
      "Trainable params: 719,610\n",
      "Non-trainable params: 0\n",
      "_________________________________________________________________\n"
     ]
    }
   ],
   "source": [
    "model.summary()"
   ]
  },
  {
   "cell_type": "code",
   "execution_count": 7,
   "id": "5a733b25",
   "metadata": {
    "execution": {
     "iopub.execute_input": "2023-03-27T19:20:50.964620Z",
     "iopub.status.busy": "2023-03-27T19:20:50.964217Z",
     "iopub.status.idle": "2023-03-27T19:20:51.271646Z",
     "shell.execute_reply": "2023-03-27T19:20:51.270464Z"
    },
    "papermill": {
     "duration": 0.487846,
     "end_time": "2023-03-27T19:20:51.273887",
     "exception": false,
     "start_time": "2023-03-27T19:20:50.786041",
     "status": "completed"
    },
    "tags": []
   },
   "outputs": [
    {
     "data": {
      "image/png": "[encoded data removed]",
      "text/plain": [
       "<Figure size 640x480 with 1 Axes>"
      ]
     },
     "metadata": {},
     "output_type": "display_data"
    }
   ],
   "source": [
    "plt.plot(history.history['accuracy'])\n",
    "plt.plot(history.history['val_accuracy'])\n",
    "plt.title('model accuracy')\n",
    "plt.ylabel('accuracy')\n",
    "plt.xlabel('epoch')\n",
    "plt.legend(['train', 'test'], loc='upper left')\n",
    "plt.show()"
   ]
  },
  {
   "cell_type": "code",
   "execution_count": 8,
   "id": "d9135e61",
   "metadata": {
    "execution": {
     "iopub.execute_input": "2023-03-27T19:20:51.625851Z",
     "iopub.status.busy": "2023-03-27T19:20:51.625401Z",
     "iopub.status.idle": "2023-03-27T19:20:51.853248Z",
     "shell.execute_reply": "2023-03-27T19:20:51.852236Z"
    },
    "papermill": {
     "duration": 0.405113,
     "end_time": "2023-03-27T19:20:51.855419",
     "exception": false,
     "start_time": "2023-03-27T19:20:51.450306",
     "status": "completed"
    },
    "tags": []
   },
   "outputs": [
    {
     "data": {
      "image/png": "[encoded data removed]",
      "text/plain": [
       "<Figure size 640x480 with 1 Axes>"
      ]
     },
     "metadata": {},
     "output_type": "display_data"
    }
   ],
   "source": [
    "plt.plot(history.history['loss'])\n",
    "plt.plot(history.history['val_loss'])\n",
    "plt.title('model loss')\n",
    "plt.ylabel('loss')\n",
    "plt.xlabel('epoch')\n",
    "plt.legend(['train', 'test'], loc='upper left')\n",
    "plt.show()"
   ]
  },
  {
   "cell_type": "markdown",
   "id": "34cdb56a",
   "metadata": {
    "papermill": {
     "duration": 0.174207,
     "end_time": "2023-03-27T19:20:52.206159",
     "exception": false,
     "start_time": "2023-03-27T19:20:52.031952",
     "status": "completed"
    },
    "tags": []
   },
   "source": [
    "## Inference Model"
   ]
  },
  {
   "cell_type": "code",
   "execution_count": 9,
   "id": "409d5da1",
   "metadata": {
    "execution": {
     "iopub.execute_input": "2023-03-27T19:20:52.608911Z",
     "iopub.status.busy": "2023-03-27T19:20:52.608507Z",
     "iopub.status.idle": "2023-03-27T19:20:52.619050Z",
     "shell.execute_reply": "2023-03-27T19:20:52.618066Z"
    },
    "papermill": {
     "duration": 0.240206,
     "end_time": "2023-03-27T19:20:52.621404",
     "exception": false,
     "start_time": "2023-03-27T19:20:52.381198",
     "status": "completed"
    },
    "tags": []
   },
   "outputs": [],
   "source": [
    "class FeatureGenTF(tf.keras.layers.Layer):\n",
    "    def __init__(self):\n",
    "        super().__init__()\n",
    "\n",
    "    def call(self, x):\n",
    "        x = x - tf.math.reduce_mean(x[~tf.math.is_nan(x)], 0,keepdims=True) #normalisation to common mean and std\n",
    "        x = x / tf.math.reduce_std(x[~tf.math.is_nan(x)], 0, keepdims=True)\n",
    "        x = tf.gather(x, point_landmarks, axis=1)\n",
    "        x = tf.image.resize_with_pad(x, max_length, len(point_landmarks))\n",
    "        x = tf.concat([x[...,i] for i in range(3)], -1) #Flatten\n",
    "        x = tf.where(tf.math.is_nan(x), tf.zeros_like(x), x)\n",
    "        x = tf.expand_dims(x,0) # THIS IS SAYING BATCH SIZE ONE TO MODEL YEAAAA\n",
    "        return x\n",
    "    \n",
    "preprocessing = FeatureGenTF()"
   ]
  },
  {
   "cell_type": "code",
   "execution_count": 10,
   "id": "1d075c0a",
   "metadata": {
    "execution": {
     "iopub.execute_input": "2023-03-27T19:20:52.979995Z",
     "iopub.status.busy": "2023-03-27T19:20:52.978990Z",
     "iopub.status.idle": "2023-03-27T19:20:53.977311Z",
     "shell.execute_reply": "2023-03-27T19:20:53.976455Z"
    },
    "papermill": {
     "duration": 1.206081,
     "end_time": "2023-03-27T19:20:54.003726",
     "exception": false,
     "start_time": "2023-03-27T19:20:52.797645",
     "status": "completed"
    },
    "tags": []
   },
   "outputs": [
    {
     "name": "stdout",
     "output_type": "stream",
     "text": [
      "Model: \"model\"\n",
      "_________________________________________________________________\n",
      " Layer (type)                Output Shape              Param #   \n",
      "=================================================================\n",
      " inputs (InputLayer)         [(None, 543, 3)]          0         \n",
      "                                                                 \n",
      " feature_gen_tf (FeatureGenT  (1, 30, 246)             0         \n",
      " F)                                                              \n",
      "                                                                 \n",
      " sequential (Sequential)     (None, 250)               719610    \n",
      "|¯¯¯¯¯¯¯¯¯¯¯¯¯¯¯¯¯¯¯¯¯¯¯¯¯¯¯¯¯¯¯¯¯¯¯¯¯¯¯¯¯¯¯¯¯¯¯¯¯¯¯¯¯¯¯¯¯¯¯¯¯¯¯|\n",
      "| masking (Masking)         (None, 30, 246)           0         |\n",
      "|                                                               |\n",
      "| dense (Dense)             (None, 30, 256)           63232     |\n",
      "|                                                               |\n",
      "| dropout (Dropout)         (None, 30, 256)           0         |\n",
      "|                                                               |\n",
      "| layer_normalization (LayerN  (None, 30, 256)        512       |\n",
      "| ormalization)                                                 |\n",
      "|                                                               |\n",
      "| dense_1 (Dense)           (None, 30, 256)           65792     |\n",
      "|                                                               |\n",
      "| dropout_1 (Dropout)       (None, 30, 256)           0         |\n",
      "|                                                               |\n",
      "| lstm (LSTM)               (None, 256)               525312    |\n",
      "|                                                               |\n",
      "| dropout_2 (Dropout)       (None, 256)               0         |\n",
      "|                                                               |\n",
      "| layer_normalization_1 (Laye  (None, 256)            512       |\n",
      "| rNormalization)                                               |\n",
      "|                                                               |\n",
      "| flatten (Flatten)         (None, 256)               0         |\n",
      "|                                                               |\n",
      "| outie (Dense)             (None, 250)               64250     |\n",
      "¯¯¯¯¯¯¯¯¯¯¯¯¯¯¯¯¯¯¯¯¯¯¯¯¯¯¯¯¯¯¯¯¯¯¯¯¯¯¯¯¯¯¯¯¯¯¯¯¯¯¯¯¯¯¯¯¯¯¯¯¯¯¯¯¯\n",
      " outputs (Activation)        (1, 250)                  0         \n",
      "                                                                 \n",
      "=================================================================\n",
      "Total params: 719,610\n",
      "Trainable params: 719,610\n",
      "Non-trainable params: 0\n",
      "_________________________________________________________________\n"
     ]
    }
   ],
   "source": [
    "def get_inference_model(model):\n",
    "    inputs = tf.keras.Input((543, 3), dtype=tf.float32, name=\"inputs\") \n",
    "    \n",
    "    x = preprocessing(inputs)\n",
    "    \n",
    "    x = model(x)\n",
    "    \n",
    "    output = tf.keras.layers.Activation(activation=\"linear\", name=\"outputs\")(x)\n",
    "    \n",
    "    inference_model = tf.keras.Model(inputs=inputs, outputs=output) \n",
    "    \n",
    "    inference_model.compile(loss=tf.keras.losses.SparseCategoricalCrossentropy(), metrics=[\"accuracy\"])\n",
    "    \n",
    "    return inference_model\n",
    "\n",
    "inference_model = get_inference_model(model)\n",
    "\n",
    "inference_model.summary(expand_nested=True)"
   ]
  },
  {
   "cell_type": "code",
   "execution_count": 11,
   "id": "867af968",
   "metadata": {
    "execution": {
     "iopub.execute_input": "2023-03-27T19:20:54.363489Z",
     "iopub.status.busy": "2023-03-27T19:20:54.363091Z",
     "iopub.status.idle": "2023-03-27T19:21:14.313622Z",
     "shell.execute_reply": "2023-03-27T19:21:14.312025Z"
    },
    "papermill": {
     "duration": 20.133093,
     "end_time": "2023-03-27T19:21:14.316699",
     "exception": false,
     "start_time": "2023-03-27T19:20:54.183606",
     "status": "completed"
    },
    "tags": []
   },
   "outputs": [
    {
     "name": "stdout",
     "output_type": "stream",
     "text": [
      "MODEL SIZE\n",
      "2939548\n",
      "  adding: model.tflite (deflated 9%)\r\n"
     ]
    }
   ],
   "source": [
    "converter = tf.lite.TFLiteConverter.from_keras_model(inference_model)\n",
    "tflite_model = converter.convert()\n",
    "model_path = \"model.tflite\"\n",
    "\n",
    "with open(model_path, 'wb') as f:\n",
    "    f.write(tflite_model)\n",
    "\n",
    "print(\"MODEL SIZE\")\n",
    "print(os.stat('model.tflite').st_size)\n",
    "\n",
    "!zip submission.zip $model_path"
   ]
  }
 ],
 "metadata": {
  "kernelspec": {
   "display_name": "Python 3",
   "language": "python",
   "name": "python3"
  },
  "language_info": {
   "codemirror_mode": {
    "name": "ipython",
    "version": 3
   },
   "file_extension": ".py",
   "mimetype": "text/x-python",
   "name": "python",
   "nbconvert_exporter": "python",
   "pygments_lexer": "ipython3",
   "version": "3.7.12"
  },
  "papermill": {
   "default_parameters": {},
   "duration": 2040.338951,
   "end_time": "2023-03-27T19:21:17.981466",
   "environment_variables": {},
   "exception": null,
   "input_path": "__notebook__.ipynb",
   "output_path": "__notebook__.ipynb",
   "parameters": {},
   "start_time": "2023-03-27T18:47:17.642515",
   "version": "2.4.0"
  },
  "widgets": {
   "application/vnd.jupyter.widget-state+json": {
    "state": {
     "17a6b9c97c394245929530ae7d7d16fe": {
      "model_module": "@jupyter-widgets/controls",
      "model_module_version": "1.5.0",
      "model_name": "DescriptionStyleModel",
      "state": {
       "_model_module": "@jupyter-widgets/controls",
       "_model_module_version": "1.5.0",
       "_model_name": "DescriptionStyleModel",
       "_view_count": null,
       "_view_module": "@jupyter-widgets/base",
       "_view_module_version": "1.2.0",
       "_view_name": "StyleView",
       "description_width": ""
      }
     },
     "1d108be1b8db4aefaf20393fafa66311": {
      "model_module": "@jupyter-widgets/controls",
      "model_module_version": "1.5.0",
      "model_name": "HTMLModel",
      "state": {
       "_dom_classes": [],
       "_model_module": "@jupyter-widgets/controls",
       "_model_module_version": "1.5.0",
       "_model_name": "HTMLModel",
       "_view_count": null,
       "_view_module": "@jupyter-widgets/controls",
       "_view_module_version": "1.5.0",
       "_view_name": "HTMLView",
       "description": "",
       "description_tooltip": null,
       "layout": "IPY_MODEL_e5e59120daf14e5799b6b4bee929db74",
       "placeholder": "​",
       "style": "IPY_MODEL_17a6b9c97c394245929530ae7d7d16fe",
       "value": "100%"
      }
     },
     "3443d1fb0bdb45ca90752c999e8a2146": {
      "model_module": "@jupyter-widgets/base",
      "model_module_version": "1.2.0",
      "model_name": "LayoutModel",
      "state": {
       "_model_module": "@jupyter-widgets/base",
       "_model_module_version": "1.2.0",
       "_model_name": "LayoutModel",
       "_view_count": null,
       "_view_module": "@jupyter-widgets/base",
       "_view_module_version": "1.2.0",
       "_view_name": "LayoutView",
       "align_content": null,
       "align_items": null,
       "align_self": null,
       "border": null,
       "bottom": null,
       "display": null,
       "flex": null,
       "flex_flow": null,
       "grid_area": null,
       "grid_auto_columns": null,
       "grid_auto_flow": null,
       "grid_auto_rows": null,
       "grid_column": null,
       "grid_gap": null,
       "grid_row": null,
       "grid_template_areas": null,
       "grid_template_columns": null,
       "grid_template_rows": null,
       "height": null,
       "justify_content": null,
       "justify_items": null,
       "left": null,
       "margin": null,
       "max_height": null,
       "max_width": null,
       "min_height": null,
       "min_width": null,
       "object_fit": null,
       "object_position": null,
       "order": null,
       "overflow": null,
       "overflow_x": null,
       "overflow_y": null,
       "padding": null,
       "right": null,
       "top": null,
       "visibility": null,
       "width": null
      }
     },
     "36d2f85e7d5c44a9b183d89dd72f6ace": {
      "model_module": "@jupyter-widgets/controls",
      "model_module_version": "1.5.0",
      "model_name": "ProgressStyleModel",
      "state": {
       "_model_module": "@jupyter-widgets/controls",
       "_model_module_version": "1.5.0",
       "_model_name": "ProgressStyleModel",
       "_view_count": null,
       "_view_module": "@jupyter-widgets/base",
       "_view_module_version": "1.2.0",
       "_view_name": "StyleView",
       "bar_color": null,
       "description_width": ""
      }
     },
     "4734b21cb5364d6aaf4e1f044bb4adc2": {
      "model_module": "@jupyter-widgets/controls",
      "model_module_version": "1.5.0",
      "model_name": "HBoxModel",
      "state": {
       "_dom_classes": [],
       "_model_module": "@jupyter-widgets/controls",
       "_model_module_version": "1.5.0",
       "_model_name": "HBoxModel",
       "_view_count": null,
       "_view_module": "@jupyter-widgets/controls",
       "_view_module_version": "1.5.0",
       "_view_name": "HBoxView",
       "box_style": "",
       "children": [
        "IPY_MODEL_1d108be1b8db4aefaf20393fafa66311",
        "IPY_MODEL_f8f600ff4083456d9412599a2720c35e",
        "IPY_MODEL_9d57110daee84260ac88320aac0ce353"
       ],
       "layout": "IPY_MODEL_fc5639468ddb4526b135c4d62668ebff"
      }
     },
     "9d57110daee84260ac88320aac0ce353": {
      "model_module": "@jupyter-widgets/controls",
      "model_module_version": "1.5.0",
      "model_name": "HTMLModel",
      "state": {
       "_dom_classes": [],
       "_model_module": "@jupyter-widgets/controls",
       "_model_module_version": "1.5.0",
       "_model_name": "HTMLModel",
       "_view_count": null,
       "_view_module": "@jupyter-widgets/controls",
       "_view_module_version": "1.5.0",
       "_view_name": "HTMLView",
       "description": "",
       "description_tooltip": null,
       "layout": "IPY_MODEL_3443d1fb0bdb45ca90752c999e8a2146",
       "placeholder": "​",
       "style": "IPY_MODEL_ce6b331bb3a449b7901c9014b18a05d3",
       "value": " 94477/94477 [28:12&lt;00:00, 45.99it/s]"
      }
     },
     "ce6b331bb3a449b7901c9014b18a05d3": {
      "model_module": "@jupyter-widgets/controls",
      "model_module_version": "1.5.0",
      "model_name": "DescriptionStyleModel",
      "state": {
       "_model_module": "@jupyter-widgets/controls",
       "_model_module_version": "1.5.0",
       "_model_name": "DescriptionStyleModel",
       "_view_count": null,
       "_view_module": "@jupyter-widgets/base",
       "_view_module_version": "1.2.0",
       "_view_name": "StyleView",
       "description_width": ""
      }
     },
     "dfe06c369e0e493b8adaf81c2403f38b": {
      "model_module": "@jupyter-widgets/base",
      "model_module_version": "1.2.0",
      "model_name": "LayoutModel",
      "state": {
       "_model_module": "@jupyter-widgets/base",
       "_model_module_version": "1.2.0",
       "_model_name": "LayoutModel",
       "_view_count": null,
       "_view_module": "@jupyter-widgets/base",
       "_view_module_version": "1.2.0",
       "_view_name": "LayoutView",
       "align_content": null,
       "align_items": null,
       "align_self": null,
       "border": null,
       "bottom": null,
       "display": null,
       "flex": null,
       "flex_flow": null,
       "grid_area": null,
       "grid_auto_columns": null,
       "grid_auto_flow": null,
       "grid_auto_rows": null,
       "grid_column": null,
       "grid_gap": null,
       "grid_row": null,
       "grid_template_areas": null,
       "grid_template_columns": null,
       "grid_template_rows": null,
       "height": null,
       "justify_content": null,
       "justify_items": null,
       "left": null,
       "margin": null,
       "max_height": null,
       "max_width": null,
       "min_height": null,
       "min_width": null,
       "object_fit": null,
       "object_position": null,
       "order": null,
       "overflow": null,
       "overflow_x": null,
       "overflow_y": null,
       "padding": null,
       "right": null,
       "top": null,
       "visibility": null,
       "width": null
      }
     },
     "e5e59120daf14e5799b6b4bee929db74": {
      "model_module": "@jupyter-widgets/base",
      "model_module_version": "1.2.0",
      "model_name": "LayoutModel",
      "state": {
       "_model_module": "@jupyter-widgets/base",
       "_model_module_version": "1.2.0",
       "_model_name": "LayoutModel",
       "_view_count": null,
       "_view_module": "@jupyter-widgets/base",
       "_view_module_version": "1.2.0",
       "_view_name": "LayoutView",
       "align_content": null,
       "align_items": null,
       "align_self": null,
       "border": null,
       "bottom": null,
       "display": null,
       "flex": null,
       "flex_flow": null,
       "grid_area": null,
       "grid_auto_columns": null,
       "grid_auto_flow": null,
       "grid_auto_rows": null,
       "grid_column": null,
       "grid_gap": null,
       "grid_row": null,
       "grid_template_areas": null,
       "grid_template_columns": null,
       "grid_template_rows": null,
       "height": null,
       "justify_content": null,
       "justify_items": null,
       "left": null,
       "margin": null,
       "max_height": null,
       "max_width": null,
       "min_height": null,
       "min_width": null,
       "object_fit": null,
       "object_position": null,
       "order": null,
       "overflow": null,
       "overflow_x": null,
       "overflow_y": null,
       "padding": null,
       "right": null,
       "top": null,
       "visibility": null,
       "width": null
      }
     },
     "f8f600ff4083456d9412599a2720c35e": {
      "model_module": "@jupyter-widgets/controls",
      "model_module_version": "1.5.0",
      "model_name": "FloatProgressModel",
      "state": {
       "_dom_classes": [],
       "_model_module": "@jupyter-widgets/controls",
       "_model_module_version": "1.5.0",
       "_model_name": "FloatProgressModel",
       "_view_count": null,
       "_view_module": "@jupyter-widgets/controls",
       "_view_module_version": "1.5.0",
       "_view_name": "ProgressView",
       "bar_style": "success",
       "description": "",
       "description_tooltip": null,
       "layout": "IPY_MODEL_dfe06c369e0e493b8adaf81c2403f38b",
       "max": 94477.0,
       "min": 0.0,
       "orientation": "horizontal",
       "style": "IPY_MODEL_36d2f85e7d5c44a9b183d89dd72f6ace",
       "value": 94477.0
      }
     },
     "fc5639468ddb4526b135c4d62668ebff": {
      "model_module": "@jupyter-widgets/base",
      "model_module_version": "1.2.0",
      "model_name": "LayoutModel",
      "state": {
       "_model_module": "@jupyter-widgets/base",
       "_model_module_version": "1.2.0",
       "_model_name": "LayoutModel",
       "_view_count": null,
       "_view_module": "@jupyter-widgets/base",
       "_view_module_version": "1.2.0",
       "_view_name": "LayoutView",
       "align_content": null,
       "align_items": null,
       "align_self": null,
       "border": null,
       "bottom": null,
       "display": null,
       "flex": null,
       "flex_flow": null,
       "grid_area": null,
       "grid_auto_columns": null,
       "grid_auto_flow": null,
       "grid_auto_rows": null,
       "grid_column": null,
       "grid_gap": null,
       "grid_row": null,
       "grid_template_areas": null,
       "grid_template_columns": null,
       "grid_template_rows": null,
       "height": null,
       "justify_content": null,
       "justify_items": null,
       "left": null,
       "margin": null,
       "max_height": null,
       "max_width": null,
       "min_height": null,
       "min_width": null,
       "object_fit": null,
       "object_position": null,
       "order": null,
       "overflow": null,
       "overflow_x": null,
       "overflow_y": null,
       "padding": null,
       "right": null,
       "top": null,
       "visibility": null,
       "width": null
      }
     }
    },
    "version_major": 2,
    "version_minor": 0
   }
  }
 },
 "nbformat": 4,
 "nbformat_minor": 5
}
