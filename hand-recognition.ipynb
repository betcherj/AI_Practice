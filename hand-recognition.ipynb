{
 "cells": [
  {
   "cell_type": "code",
   "execution_count": 1,
   "id": "0be36286",
   "metadata": {
    "execution": {
     "iopub.execute_input": "2023-03-27T17:50:39.739034Z",
     "iopub.status.busy": "2023-03-27T17:50:39.738220Z",
     "iopub.status.idle": "2023-03-27T17:50:39.743711Z",
     "shell.execute_reply": "2023-03-27T17:50:39.742728Z"
    },
    "papermill": {
     "duration": 0.014305,
     "end_time": "2023-03-27T17:50:39.746261",
     "exception": false,
     "start_time": "2023-03-27T17:50:39.731956",
     "status": "completed"
    },
    "tags": []
   },
   "outputs": [],
   "source": [
    "# !pip install tensorflow_model_optimization "
   ]
  },
  {
   "cell_type": "code",
   "execution_count": 2,
   "id": "8818ff8c",
   "metadata": {
    "execution": {
     "iopub.execute_input": "2023-03-27T17:50:39.754239Z",
     "iopub.status.busy": "2023-03-27T17:50:39.753971Z",
     "iopub.status.idle": "2023-03-27T17:50:47.158453Z",
     "shell.execute_reply": "2023-03-27T17:50:47.157274Z"
    },
    "papermill": {
     "duration": 7.411465,
     "end_time": "2023-03-27T17:50:47.161225",
     "exception": false,
     "start_time": "2023-03-27T17:50:39.749760",
     "status": "completed"
    },
    "tags": []
   },
   "outputs": [],
   "source": [
    "import numpy as np\n",
    "import pandas as pd\n",
    "import tensorflow as tf\n",
    "from tqdm.notebook import tqdm\n",
    "# import tensorflow_model_optimization as tfmot\n",
    "import json\n",
    "import zipfile\n",
    "import os\n",
    "import gc\n",
    "from sklearn.model_selection import train_test_split\n",
    "from tensorflow.keras.callbacks import EarlyStopping, ReduceLROnPlateau\n",
    "\n",
    "BASE_TRAIN_PATH = \"/kaggle/input/asl-signs/\"\n",
    "TRAIN_FILE = \"/kaggle/input/asl-signs/train.csv\"\n",
    "INDEX_MAP_FILE = '/kaggle/input/asl-signs/sign_to_prediction_index_map.json'\n",
    "MODEL_OUT_PATH = '/kaggle/working/modelie'\n",
    "\n",
    "INFERENCE_MODEL_OUT_PATH = '/kaggle/working/inference-model/modelie'\n",
    "ZIPPED_SUBMISSION_OUT_PATH = '/kaggle/working/submission.zip'\n",
    "CHECK_POINT_PATH = 'kaggle/working/check-point/cp.ckpt'\n",
    "\n",
    "epochs = 200\n",
    "batch_size = 300\n",
    "\n",
    "training = True\n",
    "rows_per_frame = 543 #Number of landmarks per frame \n",
    "num_classes = 250 \n",
    "pruning = False\n",
    "filter_outliers = True \n",
    "dropout_rate = .3\n",
    "\n",
    "# MIN MAX AVG Frames \n",
    "# 537\n",
    "# 2\n",
    "# 37.93502122209638\n",
    "max_length = 30 # length that input is padded/truncated to \n",
    "import warnings\n",
    "warnings.filterwarnings(\"ignore\", category=np.VisibleDeprecationWarning) \n",
    "\n",
    "NUM_FRAMES = 15\n",
    "SEGMENTS = 3\n",
    "\n",
    "LEFT_HAND_OFFSET = 468\n",
    "POSE_OFFSET = LEFT_HAND_OFFSET+21\n",
    "RIGHT_HAND_OFFSET = POSE_OFFSET+33\n",
    "ROWS_PER_FRAME = 543\n",
    "\n",
    "## average over the entire face, and the entire 'pose'\n",
    "\n",
    "lip_landmarks = [61, 185, 40, 39, 37,  0, 267, 269, 270, 409,\n",
    "                 291,146, 91,181, 84, 17, 314, 405, 321, 375, \n",
    "                 78, 191, 80, 81, 82, 13, 312, 311, 310, 415, \n",
    "                 95, 88, 178, 87, 14,317, 402, 318, 324, 308]\n",
    "\n",
    "left_hand_landmarks = list(range(LEFT_HAND_OFFSET, LEFT_HAND_OFFSET+21))\n",
    "right_hand_landmarks = list(range(RIGHT_HAND_OFFSET, RIGHT_HAND_OFFSET+21))\n",
    "\n",
    "point_landmarks = [item for sublist in [lip_landmarks, left_hand_landmarks, right_hand_landmarks] for item in sublist]\n",
    "\n"
   ]
  },
  {
   "cell_type": "code",
   "execution_count": 3,
   "id": "ced86bbb",
   "metadata": {
    "execution": {
     "iopub.execute_input": "2023-03-27T17:50:47.170203Z",
     "iopub.status.busy": "2023-03-27T17:50:47.169521Z",
     "iopub.status.idle": "2023-03-27T18:14:31.646910Z",
     "shell.execute_reply": "2023-03-27T18:14:31.645862Z"
    },
    "papermill": {
     "duration": 1424.484335,
     "end_time": "2023-03-27T18:14:31.649235",
     "exception": false,
     "start_time": "2023-03-27T17:50:47.164900",
     "status": "completed"
    },
    "tags": []
   },
   "outputs": [
    {
     "data": {
      "application/vnd.jupyter.widget-view+json": {
       "model_id": "b22d91e59fd2429490ce5e52ac76528e",
       "version_major": 2,
       "version_minor": 0
      },
      "text/plain": [
       "  0%|          | 0/94477 [00:00<?, ?it/s]"
      ]
     },
     "metadata": {},
     "output_type": "display_data"
    },
    {
     "name": "stderr",
     "output_type": "stream",
     "text": [
      "/opt/conda/lib/python3.7/site-packages/ipykernel_launcher.py:25: RuntimeWarning: invalid value encountered in true_divide\n"
     ]
    },
    {
     "data": {
      "text/plain": [
       "70"
      ]
     },
     "execution_count": 3,
     "metadata": {},
     "output_type": "execute_result"
    }
   ],
   "source": [
    "# Data Loading \n",
    "\n",
    "train = pd.read_csv(TRAIN_FILE)\n",
    "with open(INDEX_MAP_FILE, 'r') as f: \n",
    "    index_map = json.load(f)\n",
    "\n",
    "train['label'] = train['sign'].map(lambda x: index_map[x])\n",
    "\n",
    "x_ragged = []\n",
    "y =  []\n",
    "# for i in tqdm(range(len(train))): \n",
    "for i in tqdm(range(int(len(train)))):\n",
    "    data_columns  = ['x', 'y', 'z']\n",
    "    \n",
    "    data = pd.read_parquet(os.path.join(BASE_TRAIN_PATH, train.iloc[i].path), columns=data_columns)\n",
    "    \n",
    "    n = int(len(data)/rows_per_frame)\n",
    "        \n",
    "    data = data.values.reshape(n, rows_per_frame, len(data_columns)).astype(np.float32)\n",
    "    \n",
    "    data = np.nan_to_num(data[:, point_landmarks, :]) # filter for the relevant pose landmarks \n",
    "    \n",
    "    data = data - np.nanmean(data, 0, keepdims=True) #normalisation to common mean and std\n",
    "    \n",
    "    data = data / np.nanstd(data, 0, keepdims=True)\n",
    "    \n",
    "    data = np.reshape(data, (n, len(point_landmarks)*3), order = 'F').astype(np.float32)\n",
    "    \n",
    "    x_ragged.append(data)\n",
    "    \n",
    "    y.append(train.iloc[i].label)\n",
    "\n",
    "\n",
    "x_ragged = np.array(x_ragged)\n",
    "\n",
    "y = np.array(y)\n",
    "\n",
    "x = tf.keras.utils.pad_sequences(\n",
    "    x_ragged, padding=\"post\", truncating=\"post\", maxlen = max_length, dtype=np.float32\n",
    ")\n",
    "\n",
    "del x_ragged \n",
    "gc.collect()\n",
    "\n",
    "# 37.93502122209638\n",
    "# 22\n",
    "# 44.17706901369128\n",
    "\n",
    "# print(x_ragged.shape, y.shape)\n",
    "# (examples, only relevant landmarks * dimension of coordinates)\n",
    "# (94477, 82*3) (94477,) "
   ]
  },
  {
   "cell_type": "code",
   "execution_count": 4,
   "id": "40451356",
   "metadata": {
    "execution": {
     "iopub.execute_input": "2023-03-27T18:14:31.658349Z",
     "iopub.status.busy": "2023-03-27T18:14:31.658053Z",
     "iopub.status.idle": "2023-03-27T18:14:31.685975Z",
     "shell.execute_reply": "2023-03-27T18:14:31.685053Z"
    },
    "papermill": {
     "duration": 0.035077,
     "end_time": "2023-03-27T18:14:31.688205",
     "exception": false,
     "start_time": "2023-03-27T18:14:31.653128",
     "status": "completed"
    },
    "tags": []
   },
   "outputs": [],
   "source": [
    "class FeatureGenTF(tf.keras.layers.Layer):\n",
    "    def __init__(self):\n",
    "        super().__init__()\n",
    "\n",
    "    def call(self, x):\n",
    "        x = x - tf.math.reduce_mean(x[~tf.math.is_nan(x)], 0,keepdims=True) #normalisation to common mean and std\n",
    "        x = x / tf.math.reduce_std(x[~tf.math.is_nan(x)], 0, keepdims=True)\n",
    "        x = tf.gather(x, point_landmarks, axis=1)\n",
    "        x = tf.image.resize_with_pad(x, max_length, len(point_landmarks))\n",
    "        x = tf.concat([x[...,i] for i in range(3)], -1) #Flatten\n",
    "        x = tf.where(tf.math.is_nan(x), tf.zeros_like(x), x)\n",
    "        x = tf.expand_dims(x,0) # THIS IS SAYING BATCH SIZE ONE TO MODEL YEAAAA\n",
    "        return x\n",
    "    \n",
    "preprocessing = FeatureGenTF()\n"
   ]
  },
  {
   "cell_type": "code",
   "execution_count": 5,
   "id": "2097c532",
   "metadata": {
    "execution": {
     "iopub.execute_input": "2023-03-27T18:14:31.697850Z",
     "iopub.status.busy": "2023-03-27T18:14:31.696406Z",
     "iopub.status.idle": "2023-03-27T18:14:41.611142Z",
     "shell.execute_reply": "2023-03-27T18:14:41.608345Z"
    },
    "papermill": {
     "duration": 9.922362,
     "end_time": "2023-03-27T18:14:41.614136",
     "exception": false,
     "start_time": "2023-03-27T18:14:31.691774",
     "status": "completed"
    },
    "tags": []
   },
   "outputs": [
    {
     "data": {
      "text/plain": [
       "13769"
      ]
     },
     "execution_count": 5,
     "metadata": {},
     "output_type": "execute_result"
    }
   ],
   "source": [
    "# Training Code \n",
    "def get_model(x, y): \n",
    "    model = tf.keras.Sequential([\n",
    "        # the hidden ReLU layers\n",
    "        tf.keras.Input(shape=(max_length, len(point_landmarks)*3), dtype=np.float32), \n",
    "        tf.keras.layers.Masking(mask_value=0, input_shape=(max_length, len(point_landmarks)*3)),\n",
    "        tf.keras.layers.Dense(units=256, activation='relu'), # Generally want hidden layers to be between the size of the input and output layers \n",
    "        tf.keras.layers.Dropout(dropout_rate),\n",
    "        tf.keras.layers.LayerNormalization(), \n",
    "        tf.keras.layers.Dense(units=256, activation='relu'),\n",
    "        tf.keras.layers.Dropout(dropout_rate),\n",
    "        tf.keras.layers.LSTM(256),\n",
    "        tf.keras.layers.Dropout(dropout_rate),\n",
    "        tf.keras.layers.LayerNormalization(),\n",
    "        tf.keras.layers.Flatten(),\n",
    "        # the linear output layer \n",
    "        tf.keras.layers.Dense(units = num_classes, activation='softmax', name='outie'), # Output size is <256>\n",
    "    ])\n",
    "    model.compile(optimizer = \"adam\", loss=\"sparse_categorical_crossentropy\", metrics=[\"accuracy\"])\n",
    "    return model \n",
    "\n",
    "model = get_model(x,y) \n",
    "\n",
    "if training: \n",
    "    X_train, X_test, Y_train, Y_test = train_test_split(x, y, test_size=0.2, random_state=1)\n",
    "\n",
    "    X_train, X_val, Y_train, Y_val = train_test_split(X_train, Y_train, test_size=0.25, random_state=1) \n",
    "    \n",
    "del x , y\n",
    "gc.collect()\n"
   ]
  },
  {
   "cell_type": "code",
   "execution_count": 6,
   "id": "ff46c5da",
   "metadata": {
    "execution": {
     "iopub.execute_input": "2023-03-27T18:14:41.628674Z",
     "iopub.status.busy": "2023-03-27T18:14:41.628317Z",
     "iopub.status.idle": "2023-03-27T18:15:33.574794Z",
     "shell.execute_reply": "2023-03-27T18:15:33.573863Z"
    },
    "papermill": {
     "duration": 51.955986,
     "end_time": "2023-03-27T18:15:33.576857",
     "exception": false,
     "start_time": "2023-03-27T18:14:41.620871",
     "status": "completed"
    },
    "tags": []
   },
   "outputs": [
    {
     "name": "stdout",
     "output_type": "stream",
     "text": [
      "Epoch 1/200\n",
      "189/189 [==============================] - 18s 40ms/step - loss: nan - accuracy: 0.0041 - val_loss: nan - val_accuracy: 0.0036 - lr: 0.0010\n",
      "Epoch 2/200\n",
      "189/189 [==============================] - 5s 26ms/step - loss: nan - accuracy: 0.0041 - val_loss: nan - val_accuracy: 0.0036 - lr: 0.0010\n",
      "Epoch 3/200\n",
      "189/189 [==============================] - 5s 25ms/step - loss: nan - accuracy: 0.0041 - val_loss: nan - val_accuracy: 0.0036 - lr: 0.0010\n",
      "Epoch 4/200\n",
      "189/189 [==============================] - 5s 25ms/step - loss: nan - accuracy: 0.0041 - val_loss: nan - val_accuracy: 0.0036 - lr: 0.0010\n",
      "Epoch 5/200\n",
      "189/189 [==============================] - 5s 25ms/step - loss: nan - accuracy: 0.0041 - val_loss: nan - val_accuracy: 0.0036 - lr: 0.0010\n",
      "Epoch 6/200\n",
      "189/189 [==============================] - 5s 25ms/step - loss: nan - accuracy: 0.0041 - val_loss: nan - val_accuracy: 0.0036 - lr: 0.0010\n",
      "591/591 - 3s - loss: nan - accuracy: 0.0036 - 3s/epoch - 5ms/step\n",
      "Restored model, accuracy:  0.36%\n"
     ]
    }
   ],
   "source": [
    "callbacks = [\n",
    "        EarlyStopping(\n",
    "                monitor = \"val_accuracy\",\n",
    "                min_delta = 0, # minimium amount of change to count as an improvement\n",
    "                patience = 5, # how many epochs to wait before stopping\n",
    "                restore_best_weights=True),\n",
    "    \n",
    "        ReduceLROnPlateau(monitor = \"val_accuracy\",\n",
    "            factor = 0.5,\n",
    "            patience = 5)\n",
    "            ]\n",
    "\n",
    "history = model.fit(X_train, Y_train, \n",
    "              batch_size=batch_size, \n",
    "              epochs=epochs,\n",
    "              validation_data = (X_val, Y_val), \n",
    "              callbacks=[callbacks])\n",
    "\n",
    "loss, acc = model.evaluate(X_val, Y_val, verbose=2)\n",
    "print(\"Restored model, accuracy: {:5.2f}%\".format(100 * acc))"
   ]
  },
  {
   "cell_type": "code",
   "execution_count": 7,
   "id": "1edb5731",
   "metadata": {
    "execution": {
     "iopub.execute_input": "2023-03-27T18:15:33.627504Z",
     "iopub.status.busy": "2023-03-27T18:15:33.627205Z",
     "iopub.status.idle": "2023-03-27T18:15:33.655740Z",
     "shell.execute_reply": "2023-03-27T18:15:33.655003Z"
    },
    "papermill": {
     "duration": 0.074413,
     "end_time": "2023-03-27T18:15:33.676572",
     "exception": false,
     "start_time": "2023-03-27T18:15:33.602159",
     "status": "completed"
    },
    "tags": []
   },
   "outputs": [
    {
     "name": "stdout",
     "output_type": "stream",
     "text": [
      "Model: \"sequential\"\n",
      "_________________________________________________________________\n",
      " Layer (type)                Output Shape              Param #   \n",
      "=================================================================\n",
      " masking (Masking)           (None, 30, 246)           0         \n",
      "                                                                 \n",
      " dense (Dense)               (None, 30, 256)           63232     \n",
      "                                                                 \n",
      " dropout (Dropout)           (None, 30, 256)           0         \n",
      "                                                                 \n",
      " layer_normalization (LayerN  (None, 30, 256)          512       \n",
      " ormalization)                                                   \n",
      "                                                                 \n",
      " dense_1 (Dense)             (None, 30, 256)           65792     \n",
      "                                                                 \n",
      " dropout_1 (Dropout)         (None, 30, 256)           0         \n",
      "                                                                 \n",
      " lstm (LSTM)                 (None, 256)               525312    \n",
      "                                                                 \n",
      " dropout_2 (Dropout)         (None, 256)               0         \n",
      "                                                                 \n",
      " layer_normalization_1 (Laye  (None, 256)              512       \n",
      " rNormalization)                                                 \n",
      "                                                                 \n",
      " flatten (Flatten)           (None, 256)               0         \n",
      "                                                                 \n",
      " outie (Dense)               (None, 250)               64250     \n",
      "                                                                 \n",
      "=================================================================\n",
      "Total params: 719,610\n",
      "Trainable params: 719,610\n",
      "Non-trainable params: 0\n",
      "_________________________________________________________________\n"
     ]
    }
   ],
   "source": [
    "model.summary()"
   ]
  },
  {
   "cell_type": "code",
   "execution_count": 8,
   "id": "5e4f0e56",
   "metadata": {
    "execution": {
     "iopub.execute_input": "2023-03-27T18:15:33.728919Z",
     "iopub.status.busy": "2023-03-27T18:15:33.728625Z",
     "iopub.status.idle": "2023-03-27T18:15:34.018022Z",
     "shell.execute_reply": "2023-03-27T18:15:34.017089Z"
    },
    "papermill": {
     "duration": 0.317872,
     "end_time": "2023-03-27T18:15:34.020313",
     "exception": false,
     "start_time": "2023-03-27T18:15:33.702441",
     "status": "completed"
    },
    "tags": []
   },
   "outputs": [
    {
     "name": "stdout",
     "output_type": "stream",
     "text": [
      "<keras.callbacks.History object at 0x7f03d6b7a650>\n"
     ]
    },
    {
     "data": {
      "image/png": "[encoded data removed]",
      "text/plain": [
       "<Figure size 640x480 with 1 Axes>"
      ]
     },
     "metadata": {},
     "output_type": "display_data"
    }
   ],
   "source": [
    "import matplotlib.pyplot as plt\n",
    "\n",
    "print(history)\n",
    "plt.plot(history.history['accuracy'])\n",
    "plt.plot(history.history['val_accuracy'])\n",
    "plt.title('model accuracy')\n",
    "plt.ylabel('accuracy')\n",
    "plt.xlabel('epoch')\n",
    "plt.legend(['train', 'test'], loc='upper left')\n",
    "plt.show()"
   ]
  },
  {
   "cell_type": "code",
   "execution_count": 9,
   "id": "ceff6b56",
   "metadata": {
    "execution": {
     "iopub.execute_input": "2023-03-27T18:15:34.073847Z",
     "iopub.status.busy": "2023-03-27T18:15:34.073043Z",
     "iopub.status.idle": "2023-03-27T18:15:34.263316Z",
     "shell.execute_reply": "2023-03-27T18:15:34.262267Z"
    },
    "papermill": {
     "duration": 0.219293,
     "end_time": "2023-03-27T18:15:34.265375",
     "exception": false,
     "start_time": "2023-03-27T18:15:34.046082",
     "status": "completed"
    },
    "tags": []
   },
   "outputs": [
    {
     "data": {
      "image/png": "[encoded data removed]",
      "text/plain": [
       "<Figure size 640x480 with 1 Axes>"
      ]
     },
     "metadata": {},
     "output_type": "display_data"
    }
   ],
   "source": [
    "plt.plot(history.history['loss'])\n",
    "plt.plot(history.history['val_loss'])\n",
    "plt.title('model loss')\n",
    "plt.ylabel('loss')\n",
    "plt.xlabel('epoch')\n",
    "plt.legend(['train', 'test'], loc='upper left')\n",
    "plt.show()"
   ]
  },
  {
   "cell_type": "code",
   "execution_count": 10,
   "id": "6ec3f0ef",
   "metadata": {
    "execution": {
     "iopub.execute_input": "2023-03-27T18:15:34.319253Z",
     "iopub.status.busy": "2023-03-27T18:15:34.318453Z",
     "iopub.status.idle": "2023-03-27T18:15:35.192755Z",
     "shell.execute_reply": "2023-03-27T18:15:35.191767Z"
    },
    "papermill": {
     "duration": 0.903996,
     "end_time": "2023-03-27T18:15:35.195493",
     "exception": false,
     "start_time": "2023-03-27T18:15:34.291497",
     "status": "completed"
    },
    "tags": []
   },
   "outputs": [],
   "source": [
    "def get_inference_model(model):\n",
    "    inputs = tf.keras.Input((543, 3), dtype=tf.float32, name=\"inputs\") \n",
    "    \n",
    "    x = preprocessing(inputs)\n",
    "    \n",
    "    x = model(x)\n",
    "    \n",
    "    output = tf.keras.layers.Activation(activation=\"linear\", name=\"outputs\")(x)\n",
    "    \n",
    "    inference_model = tf.keras.Model(inputs=inputs, outputs=output) \n",
    "    \n",
    "    inference_model.compile(loss=tf.keras.losses.SparseCategoricalCrossentropy(), metrics=[\"accuracy\"])\n",
    "    \n",
    "    return inference_model\n",
    "\n",
    "inference_model = get_inference_model(model)"
   ]
  },
  {
   "cell_type": "code",
   "execution_count": 11,
   "id": "519f7344",
   "metadata": {
    "execution": {
     "iopub.execute_input": "2023-03-27T18:15:35.252948Z",
     "iopub.status.busy": "2023-03-27T18:15:35.252632Z",
     "iopub.status.idle": "2023-03-27T18:15:53.269574Z",
     "shell.execute_reply": "2023-03-27T18:15:53.268360Z"
    },
    "papermill": {
     "duration": 18.070933,
     "end_time": "2023-03-27T18:15:53.294213",
     "exception": false,
     "start_time": "2023-03-27T18:15:35.223280",
     "status": "completed"
    },
    "tags": []
   },
   "outputs": [
    {
     "name": "stdout",
     "output_type": "stream",
     "text": [
      "MODEL SIZE\n",
      "1889432\n",
      "  adding: model.tflite (deflated 99%)\r\n",
      "Model: \"model\"\n",
      "_________________________________________________________________\n",
      " Layer (type)                Output Shape              Param #   \n",
      "=================================================================\n",
      " inputs (InputLayer)         [(None, 543, 3)]          0         \n",
      "                                                                 \n",
      " feature_gen_tf (FeatureGenT  (1, 30, 246)             0         \n",
      " F)                                                              \n",
      "                                                                 \n",
      " sequential (Sequential)     (None, 250)               719610    \n",
      "|¯¯¯¯¯¯¯¯¯¯¯¯¯¯¯¯¯¯¯¯¯¯¯¯¯¯¯¯¯¯¯¯¯¯¯¯¯¯¯¯¯¯¯¯¯¯¯¯¯¯¯¯¯¯¯¯¯¯¯¯¯¯¯|\n",
      "| masking (Masking)         (None, 30, 246)           0         |\n",
      "|                                                               |\n",
      "| dense (Dense)             (None, 30, 256)           63232     |\n",
      "|                                                               |\n",
      "| dropout (Dropout)         (None, 30, 256)           0         |\n",
      "|                                                               |\n",
      "| layer_normalization (LayerN  (None, 30, 256)        512       |\n",
      "| ormalization)                                                 |\n",
      "|                                                               |\n",
      "| dense_1 (Dense)           (None, 30, 256)           65792     |\n",
      "|                                                               |\n",
      "| dropout_1 (Dropout)       (None, 30, 256)           0         |\n",
      "|                                                               |\n",
      "| lstm (LSTM)               (None, 256)               525312    |\n",
      "|                                                               |\n",
      "| dropout_2 (Dropout)       (None, 256)               0         |\n",
      "|                                                               |\n",
      "| layer_normalization_1 (Laye  (None, 256)            512       |\n",
      "| rNormalization)                                               |\n",
      "|                                                               |\n",
      "| flatten (Flatten)         (None, 256)               0         |\n",
      "|                                                               |\n",
      "| outie (Dense)             (None, 250)               64250     |\n",
      "¯¯¯¯¯¯¯¯¯¯¯¯¯¯¯¯¯¯¯¯¯¯¯¯¯¯¯¯¯¯¯¯¯¯¯¯¯¯¯¯¯¯¯¯¯¯¯¯¯¯¯¯¯¯¯¯¯¯¯¯¯¯¯¯¯\n",
      " outputs (Activation)        (1, 250)                  0         \n",
      "                                                                 \n",
      "=================================================================\n",
      "Total params: 719,610\n",
      "Trainable params: 719,610\n",
      "Non-trainable params: 0\n",
      "_________________________________________________________________\n"
     ]
    }
   ],
   "source": [
    "\n",
    "converter = tf.lite.TFLiteConverter.from_keras_model(inference_model)\n",
    "tflite_model = converter.convert()\n",
    "model_path = \"model.tflite\"\n",
    "\n",
    "with open(model_path, 'wb') as f:\n",
    "    f.write(tflite_model)\n",
    "\n",
    "print(\"MODEL SIZE\")\n",
    "print(os.stat('model.tflite').st_size)\n",
    "\n",
    "!zip submission.zip $model_path\n",
    "\n",
    "inference_model.summary(expand_nested=True)"
   ]
  },
  {
   "cell_type": "code",
   "execution_count": 12,
   "id": "a6349436",
   "metadata": {
    "execution": {
     "iopub.execute_input": "2023-03-27T18:15:53.352918Z",
     "iopub.status.busy": "2023-03-27T18:15:53.352573Z",
     "iopub.status.idle": "2023-03-27T18:16:05.272007Z",
     "shell.execute_reply": "2023-03-27T18:16:05.270722Z"
    },
    "papermill": {
     "duration": 11.95183,
     "end_time": "2023-03-27T18:16:05.274706",
     "exception": false,
     "start_time": "2023-03-27T18:15:53.322876",
     "status": "completed"
    },
    "tags": []
   },
   "outputs": [
    {
     "name": "stdout",
     "output_type": "stream",
     "text": [
      "Collecting tflite-runtime\r\n",
      "  Downloading tflite_runtime-2.11.0-cp37-cp37m-manylinux2014_x86_64.whl (2.5 MB)\r\n",
      "\u001b[2K     \u001b[90m━━━━━━━━━━━━━━━━━━━━━━━━━━━━━━━━━━━━━━━━\u001b[0m \u001b[32m2.5/2.5 MB\u001b[0m \u001b[31m50.0 MB/s\u001b[0m eta \u001b[36m0:00:00\u001b[0m\r\n",
      "\u001b[?25hRequirement already satisfied: numpy>=1.19.2 in /opt/conda/lib/python3.7/site-packages (from tflite-runtime) (1.21.6)\r\n",
      "Installing collected packages: tflite-runtime\r\n",
      "Successfully installed tflite-runtime-2.11.0\r\n",
      "\u001b[33mWARNING: Running pip as the 'root' user can result in broken permissions and conflicting behaviour with the system package manager. It is recommended to use a virtual environment instead: https://pip.pypa.io/warnings/venv\u001b[0m\u001b[33m\r\n",
      "\u001b[0m"
     ]
    }
   ],
   "source": [
    "!pip install tflite-runtime"
   ]
  },
  {
   "cell_type": "code",
   "execution_count": 13,
   "id": "2462a1b6",
   "metadata": {
    "execution": {
     "iopub.execute_input": "2023-03-27T18:16:05.338763Z",
     "iopub.status.busy": "2023-03-27T18:16:05.338412Z",
     "iopub.status.idle": "2023-03-27T18:16:05.343891Z",
     "shell.execute_reply": "2023-03-27T18:16:05.342861Z"
    },
    "papermill": {
     "duration": 0.041056,
     "end_time": "2023-03-27T18:16:05.346115",
     "exception": false,
     "start_time": "2023-03-27T18:16:05.305059",
     "status": "completed"
    },
    "tags": []
   },
   "outputs": [],
   "source": [
    "# import tflite_runtime.interpreter as tflite\n",
    "\n",
    "# #TODO figure out why inference is so bad after conversion to tflite \n",
    "\n",
    "# interpreter = tflite.Interpreter(model_path)\n",
    "\n",
    "# found_signatures = list(interpreter.get_signature_list().keys())\n",
    "# prediction_fn = interpreter.get_signature_runner(\"serving_default\")\n",
    "\n",
    "\n",
    "# p2s_map = {v: k for k, v in index_map.items()}\n",
    "\n",
    "# encoder = lambda x: s2p_map.get(x)\n",
    "# decoder = lambda x: p2s_map.get(x)\n",
    "\n",
    "# score = 0 \n",
    "\n",
    "# for i in range(int(len(train)/10)): \n",
    "#     frames = load_relevant_data_subset(os.path.join(BASE_TRAIN_PATH, train.iloc[11].path))\n",
    "#     output = prediction_fn(inputs=frames)\n",
    "#     sign = np.argmax(output[\"outputs\"])\n",
    "# #     print(decoder(train.iloc[i].label)) \n",
    "# #     print(decoder(sign))\n",
    "#     if decoder(train.iloc[i].label) == decoder(sign):  \n",
    "#         score += 1 \n",
    "        \n",
    "# print(len(train)/10)\n",
    "# print(score)\n",
    "\n",
    "# print(score/int(len(train)/10))\n"
   ]
  },
  {
   "cell_type": "code",
   "execution_count": null,
   "id": "25e09478",
   "metadata": {
    "papermill": {
     "duration": 0.028476,
     "end_time": "2023-03-27T18:16:05.403738",
     "exception": false,
     "start_time": "2023-03-27T18:16:05.375262",
     "status": "completed"
    },
    "tags": []
   },
   "outputs": [],
   "source": []
  }
 ],
 "metadata": {
  "kernelspec": {
   "display_name": "Python 3",
   "language": "python",
   "name": "python3"
  },
  "language_info": {
   "codemirror_mode": {
    "name": "ipython",
    "version": 3
   },
   "file_extension": ".py",
   "mimetype": "text/x-python",
   "name": "python",
   "nbconvert_exporter": "python",
   "pygments_lexer": "ipython3",
   "version": "3.7.12"
  },
  "papermill": {
   "default_parameters": {},
   "duration": 1538.3631,
   "end_time": "2023-03-27T18:16:09.148028",
   "environment_variables": {},
   "exception": null,
   "input_path": "__notebook__.ipynb",
   "output_path": "__notebook__.ipynb",
   "parameters": {},
   "start_time": "2023-03-27T17:50:30.784928",
   "version": "2.4.0"
  },
  "widgets": {
   "application/vnd.jupyter.widget-state+json": {
    "state": {
     "0bc05b9920a84a739fb03b5a666e8939": {
      "model_module": "@jupyter-widgets/base",
      "model_module_version": "1.2.0",
      "model_name": "LayoutModel",
      "state": {
       "_model_module": "@jupyter-widgets/base",
       "_model_module_version": "1.2.0",
       "_model_name": "LayoutModel",
       "_view_count": null,
       "_view_module": "@jupyter-widgets/base",
       "_view_module_version": "1.2.0",
       "_view_name": "LayoutView",
       "align_content": null,
       "align_items": null,
       "align_self": null,
       "border": null,
       "bottom": null,
       "display": null,
       "flex": null,
       "flex_flow": null,
       "grid_area": null,
       "grid_auto_columns": null,
       "grid_auto_flow": null,
       "grid_auto_rows": null,
       "grid_column": null,
       "grid_gap": null,
       "grid_row": null,
       "grid_template_areas": null,
       "grid_template_columns": null,
       "grid_template_rows": null,
       "height": null,
       "justify_content": null,
       "justify_items": null,
       "left": null,
       "margin": null,
       "max_height": null,
       "max_width": null,
       "min_height": null,
       "min_width": null,
       "object_fit": null,
       "object_position": null,
       "order": null,
       "overflow": null,
       "overflow_x": null,
       "overflow_y": null,
       "padding": null,
       "right": null,
       "top": null,
       "visibility": null,
       "width": null
      }
     },
     "1af82a6018a84be4a38683acfbb92276": {
      "model_module": "@jupyter-widgets/base",
      "model_module_version": "1.2.0",
      "model_name": "LayoutModel",
      "state": {
       "_model_module": "@jupyter-widgets/base",
       "_model_module_version": "1.2.0",
       "_model_name": "LayoutModel",
       "_view_count": null,
       "_view_module": "@jupyter-widgets/base",
       "_view_module_version": "1.2.0",
       "_view_name": "LayoutView",
       "align_content": null,
       "align_items": null,
       "align_self": null,
       "border": null,
       "bottom": null,
       "display": null,
       "flex": null,
       "flex_flow": null,
       "grid_area": null,
       "grid_auto_columns": null,
       "grid_auto_flow": null,
       "grid_auto_rows": null,
       "grid_column": null,
       "grid_gap": null,
       "grid_row": null,
       "grid_template_areas": null,
       "grid_template_columns": null,
       "grid_template_rows": null,
       "height": null,
       "justify_content": null,
       "justify_items": null,
       "left": null,
       "margin": null,
       "max_height": null,
       "max_width": null,
       "min_height": null,
       "min_width": null,
       "object_fit": null,
       "object_position": null,
       "order": null,
       "overflow": null,
       "overflow_x": null,
       "overflow_y": null,
       "padding": null,
       "right": null,
       "top": null,
       "visibility": null,
       "width": null
      }
     },
     "42e8464b3d0a4ad585ce53468a68d5cf": {
      "model_module": "@jupyter-widgets/base",
      "model_module_version": "1.2.0",
      "model_name": "LayoutModel",
      "state": {
       "_model_module": "@jupyter-widgets/base",
       "_model_module_version": "1.2.0",
       "_model_name": "LayoutModel",
       "_view_count": null,
       "_view_module": "@jupyter-widgets/base",
       "_view_module_version": "1.2.0",
       "_view_name": "LayoutView",
       "align_content": null,
       "align_items": null,
       "align_self": null,
       "border": null,
       "bottom": null,
       "display": null,
       "flex": null,
       "flex_flow": null,
       "grid_area": null,
       "grid_auto_columns": null,
       "grid_auto_flow": null,
       "grid_auto_rows": null,
       "grid_column": null,
       "grid_gap": null,
       "grid_row": null,
       "grid_template_areas": null,
       "grid_template_columns": null,
       "grid_template_rows": null,
       "height": null,
       "justify_content": null,
       "justify_items": null,
       "left": null,
       "margin": null,
       "max_height": null,
       "max_width": null,
       "min_height": null,
       "min_width": null,
       "object_fit": null,
       "object_position": null,
       "order": null,
       "overflow": null,
       "overflow_x": null,
       "overflow_y": null,
       "padding": null,
       "right": null,
       "top": null,
       "visibility": null,
       "width": null
      }
     },
     "43623badbae74dd287973caf5fc27074": {
      "model_module": "@jupyter-widgets/controls",
      "model_module_version": "1.5.0",
      "model_name": "FloatProgressModel",
      "state": {
       "_dom_classes": [],
       "_model_module": "@jupyter-widgets/controls",
       "_model_module_version": "1.5.0",
       "_model_name": "FloatProgressModel",
       "_view_count": null,
       "_view_module": "@jupyter-widgets/controls",
       "_view_module_version": "1.5.0",
       "_view_name": "ProgressView",
       "bar_style": "success",
       "description": "",
       "description_tooltip": null,
       "layout": "IPY_MODEL_0bc05b9920a84a739fb03b5a666e8939",
       "max": 94477.0,
       "min": 0.0,
       "orientation": "horizontal",
       "style": "IPY_MODEL_bfcf82c604a94636913dd0e9fd4ff86b",
       "value": 94477.0
      }
     },
     "75ff7b8d597a4901bba349bcd07c1f46": {
      "model_module": "@jupyter-widgets/controls",
      "model_module_version": "1.5.0",
      "model_name": "DescriptionStyleModel",
      "state": {
       "_model_module": "@jupyter-widgets/controls",
       "_model_module_version": "1.5.0",
       "_model_name": "DescriptionStyleModel",
       "_view_count": null,
       "_view_module": "@jupyter-widgets/base",
       "_view_module_version": "1.2.0",
       "_view_name": "StyleView",
       "description_width": ""
      }
     },
     "828c45ab534f4b5fbedc98530b0fa904": {
      "model_module": "@jupyter-widgets/controls",
      "model_module_version": "1.5.0",
      "model_name": "HTMLModel",
      "state": {
       "_dom_classes": [],
       "_model_module": "@jupyter-widgets/controls",
       "_model_module_version": "1.5.0",
       "_model_name": "HTMLModel",
       "_view_count": null,
       "_view_module": "@jupyter-widgets/controls",
       "_view_module_version": "1.5.0",
       "_view_name": "HTMLView",
       "description": "",
       "description_tooltip": null,
       "layout": "IPY_MODEL_b2a7dca044c34221b5e8184a4acf3c62",
       "placeholder": "​",
       "style": "IPY_MODEL_75ff7b8d597a4901bba349bcd07c1f46",
       "value": "100%"
      }
     },
     "a1345a5bbebe4ee39b3614b71c850f63": {
      "model_module": "@jupyter-widgets/controls",
      "model_module_version": "1.5.0",
      "model_name": "HTMLModel",
      "state": {
       "_dom_classes": [],
       "_model_module": "@jupyter-widgets/controls",
       "_model_module_version": "1.5.0",
       "_model_name": "HTMLModel",
       "_view_count": null,
       "_view_module": "@jupyter-widgets/controls",
       "_view_module_version": "1.5.0",
       "_view_name": "HTMLView",
       "description": "",
       "description_tooltip": null,
       "layout": "IPY_MODEL_1af82a6018a84be4a38683acfbb92276",
       "placeholder": "​",
       "style": "IPY_MODEL_f1876599c0a14ce18dca0ae62febcd77",
       "value": " 94477/94477 [23:39&lt;00:00, 64.71it/s]"
      }
     },
     "b22d91e59fd2429490ce5e52ac76528e": {
      "model_module": "@jupyter-widgets/controls",
      "model_module_version": "1.5.0",
      "model_name": "HBoxModel",
      "state": {
       "_dom_classes": [],
       "_model_module": "@jupyter-widgets/controls",
       "_model_module_version": "1.5.0",
       "_model_name": "HBoxModel",
       "_view_count": null,
       "_view_module": "@jupyter-widgets/controls",
       "_view_module_version": "1.5.0",
       "_view_name": "HBoxView",
       "box_style": "",
       "children": [
        "IPY_MODEL_828c45ab534f4b5fbedc98530b0fa904",
        "IPY_MODEL_43623badbae74dd287973caf5fc27074",
        "IPY_MODEL_a1345a5bbebe4ee39b3614b71c850f63"
       ],
       "layout": "IPY_MODEL_42e8464b3d0a4ad585ce53468a68d5cf"
      }
     },
     "b2a7dca044c34221b5e8184a4acf3c62": {
      "model_module": "@jupyter-widgets/base",
      "model_module_version": "1.2.0",
      "model_name": "LayoutModel",
      "state": {
       "_model_module": "@jupyter-widgets/base",
       "_model_module_version": "1.2.0",
       "_model_name": "LayoutModel",
       "_view_count": null,
       "_view_module": "@jupyter-widgets/base",
       "_view_module_version": "1.2.0",
       "_view_name": "LayoutView",
       "align_content": null,
       "align_items": null,
       "align_self": null,
       "border": null,
       "bottom": null,
       "display": null,
       "flex": null,
       "flex_flow": null,
       "grid_area": null,
       "grid_auto_columns": null,
       "grid_auto_flow": null,
       "grid_auto_rows": null,
       "grid_column": null,
       "grid_gap": null,
       "grid_row": null,
       "grid_template_areas": null,
       "grid_template_columns": null,
       "grid_template_rows": null,
       "height": null,
       "justify_content": null,
       "justify_items": null,
       "left": null,
       "margin": null,
       "max_height": null,
       "max_width": null,
       "min_height": null,
       "min_width": null,
       "object_fit": null,
       "object_position": null,
       "order": null,
       "overflow": null,
       "overflow_x": null,
       "overflow_y": null,
       "padding": null,
       "right": null,
       "top": null,
       "visibility": null,
       "width": null
      }
     },
     "bfcf82c604a94636913dd0e9fd4ff86b": {
      "model_module": "@jupyter-widgets/controls",
      "model_module_version": "1.5.0",
      "model_name": "ProgressStyleModel",
      "state": {
       "_model_module": "@jupyter-widgets/controls",
       "_model_module_version": "1.5.0",
       "_model_name": "ProgressStyleModel",
       "_view_count": null,
       "_view_module": "@jupyter-widgets/base",
       "_view_module_version": "1.2.0",
       "_view_name": "StyleView",
       "bar_color": null,
       "description_width": ""
      }
     },
     "f1876599c0a14ce18dca0ae62febcd77": {
      "model_module": "@jupyter-widgets/controls",
      "model_module_version": "1.5.0",
      "model_name": "DescriptionStyleModel",
      "state": {
       "_model_module": "@jupyter-widgets/controls",
       "_model_module_version": "1.5.0",
       "_model_name": "DescriptionStyleModel",
       "_view_count": null,
       "_view_module": "@jupyter-widgets/base",
       "_view_module_version": "1.2.0",
       "_view_name": "StyleView",
       "description_width": ""
      }
     }
    },
    "version_major": 2,
    "version_minor": 0
   }
  }
 },
 "nbformat": 4,
 "nbformat_minor": 5
}
