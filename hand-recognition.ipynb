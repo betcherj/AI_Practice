{
 "cells": [
  {
   "cell_type": "code",
   "execution_count": 1,
   "id": "4efe6264",
   "metadata": {
    "execution": {
     "iopub.execute_input": "2023-03-27T12:36:39.993859Z",
     "iopub.status.busy": "2023-03-27T12:36:39.992894Z",
     "iopub.status.idle": "2023-03-27T12:36:50.494655Z",
     "shell.execute_reply": "2023-03-27T12:36:50.493441Z"
    },
    "papermill": {
     "duration": 10.511309,
     "end_time": "2023-03-27T12:36:50.498295",
     "exception": false,
     "start_time": "2023-03-27T12:36:39.986986",
     "status": "completed"
    },
    "tags": []
   },
   "outputs": [
    {
     "name": "stdout",
     "output_type": "stream",
     "text": [
      "Collecting tensorflow_model_optimization\r\n",
      "  Downloading tensorflow_model_optimization-0.7.3-py2.py3-none-any.whl (238 kB)\r\n",
      "\u001b[2K     \u001b[90m━━━━━━━━━━━━━━━━━━━━━━━━━━━━━━━━━━━━━━━\u001b[0m \u001b[32m238.9/238.9 kB\u001b[0m \u001b[31m7.5 MB/s\u001b[0m eta \u001b[36m0:00:00\u001b[0m\r\n",
      "\u001b[?25hRequirement already satisfied: dm-tree~=0.1.1 in /opt/conda/lib/python3.7/site-packages (from tensorflow_model_optimization) (0.1.8)\r\n",
      "Requirement already satisfied: numpy~=1.14 in /opt/conda/lib/python3.7/site-packages (from tensorflow_model_optimization) (1.21.6)\r\n",
      "Requirement already satisfied: six~=1.10 in /opt/conda/lib/python3.7/site-packages (from tensorflow_model_optimization) (1.16.0)\r\n",
      "Installing collected packages: tensorflow_model_optimization\r\n",
      "Successfully installed tensorflow_model_optimization-0.7.3\r\n",
      "\u001b[33mWARNING: Running pip as the 'root' user can result in broken permissions and conflicting behaviour with the system package manager. It is recommended to use a virtual environment instead: https://pip.pypa.io/warnings/venv\u001b[0m\u001b[33m\r\n",
      "\u001b[0m"
     ]
    }
   ],
   "source": [
    "!pip install tensorflow_model_optimization "
   ]
  },
  {
   "cell_type": "code",
   "execution_count": 2,
   "id": "7c937cb2",
   "metadata": {
    "execution": {
     "iopub.execute_input": "2023-03-27T12:36:50.512972Z",
     "iopub.status.busy": "2023-03-27T12:36:50.512621Z",
     "iopub.status.idle": "2023-03-27T12:36:58.510746Z",
     "shell.execute_reply": "2023-03-27T12:36:58.509600Z"
    },
    "papermill": {
     "duration": 8.008187,
     "end_time": "2023-03-27T12:36:58.513561",
     "exception": false,
     "start_time": "2023-03-27T12:36:50.505374",
     "status": "completed"
    },
    "tags": []
   },
   "outputs": [],
   "source": [
    "import numpy as np\n",
    "import pandas as pd\n",
    "import tensorflow as tf\n",
    "from tqdm.notebook import tqdm\n",
    "import tensorflow_model_optimization as tfmot\n",
    "import json\n",
    "import zipfile\n",
    "import os\n",
    "import gc\n",
    "from sklearn.model_selection import train_test_split\n",
    "from tensorflow.keras.callbacks import EarlyStopping, ReduceLROnPlateau\n",
    "\n",
    "BASE_TRAIN_PATH = \"/kaggle/input/asl-signs/\"\n",
    "TRAIN_FILE = \"/kaggle/input/asl-signs/train.csv\"\n",
    "INDEX_MAP_FILE = '/kaggle/input/asl-signs/sign_to_prediction_index_map.json'\n",
    "MODEL_OUT_PATH = '/kaggle/working/modelie'\n",
    "\n",
    "INFERENCE_MODEL_OUT_PATH = '/kaggle/working/inference-model/modelie'\n",
    "ZIPPED_SUBMISSION_OUT_PATH = '/kaggle/working/submission.zip'\n",
    "CHECK_POINT_PATH = 'kaggle/working/check-point/cp.ckpt'\n",
    "\n",
    "epochs = 200\n",
    "batch_size = 300\n",
    "\n",
    "training = True\n",
    "rows_per_frame = 543 #Number of landmarks per frame \n",
    "num_classes = 250 \n",
    "pruning = False\n",
    "dropout_rate = .3\n",
    "\n",
    "# MIN MAX AVG Frames \n",
    "# 537\n",
    "# 2\n",
    "# 37.93502122209638\n",
    "max_length = 30 # length that input is padded/truncated to \n",
    "import warnings\n",
    "warnings.filterwarnings(\"ignore\", category=np.VisibleDeprecationWarning) \n",
    "\n",
    "NUM_FRAMES = 15\n",
    "SEGMENTS = 3\n",
    "\n",
    "LEFT_HAND_OFFSET = 468\n",
    "POSE_OFFSET = LEFT_HAND_OFFSET+21\n",
    "RIGHT_HAND_OFFSET = POSE_OFFSET+33\n",
    "ROWS_PER_FRAME = 543\n",
    "\n",
    "## average over the entire face, and the entire 'pose'\n",
    "\n",
    "lip_landmarks = [61, 185, 40, 39, 37,  0, 267, 269, 270, 409,\n",
    "                 291,146, 91,181, 84, 17, 314, 405, 321, 375, \n",
    "                 78, 191, 80, 81, 82, 13, 312, 311, 310, 415, \n",
    "                 95, 88, 178, 87, 14,317, 402, 318, 324, 308]\n",
    "\n",
    "left_hand_landmarks = list(range(LEFT_HAND_OFFSET, LEFT_HAND_OFFSET+21))\n",
    "right_hand_landmarks = list(range(RIGHT_HAND_OFFSET, RIGHT_HAND_OFFSET+21))\n",
    "\n",
    "point_landmarks = [item for sublist in [lip_landmarks, left_hand_landmarks, right_hand_landmarks] for item in sublist]\n"
   ]
  },
  {
   "cell_type": "code",
   "execution_count": 3,
   "id": "7e5e1d7c",
   "metadata": {
    "execution": {
     "iopub.execute_input": "2023-03-27T12:36:58.525374Z",
     "iopub.status.busy": "2023-03-27T12:36:58.523401Z",
     "iopub.status.idle": "2023-03-27T13:01:50.033152Z",
     "shell.execute_reply": "2023-03-27T13:01:50.032054Z"
    },
    "papermill": {
     "duration": 1491.517189,
     "end_time": "2023-03-27T13:01:50.035402",
     "exception": false,
     "start_time": "2023-03-27T12:36:58.518213",
     "status": "completed"
    },
    "tags": []
   },
   "outputs": [
    {
     "data": {
      "application/vnd.jupyter.widget-view+json": {
       "model_id": "e8eba0af71104311b4953715ad04cf02",
       "version_major": 2,
       "version_minor": 0
      },
      "text/plain": [
       "  0%|          | 0/94477 [00:00<?, ?it/s]"
      ]
     },
     "metadata": {},
     "output_type": "display_data"
    },
    {
     "data": {
      "text/plain": [
       "18"
      ]
     },
     "execution_count": 3,
     "metadata": {},
     "output_type": "execute_result"
    }
   ],
   "source": [
    "# Data Loading \n",
    "train = pd.read_csv(TRAIN_FILE)\n",
    "with open(INDEX_MAP_FILE, 'r') as f: \n",
    "    index_map = json.load(f)\n",
    "\n",
    "train['label'] = train['sign'].map(lambda x: index_map[x])\n",
    "\n",
    "x_ragged = []\n",
    "y =  []\n",
    "\n",
    "# for i in tqdm(range(len(train))): \n",
    "for i in tqdm(range(int(len(train)))):\n",
    "    data_columns  = ['x', 'y', 'z']\n",
    "    \n",
    "    data = pd.read_parquet(os.path.join(BASE_TRAIN_PATH, train.iloc[i].path), columns=data_columns)\n",
    "    \n",
    "    n = int(len(data)/rows_per_frame)\n",
    "    \n",
    "    data = data.values.reshape(n, rows_per_frame, len(data_columns)).astype(np.float32)\n",
    "    \n",
    "    data = np.nan_to_num(data[:, point_landmarks, :]) # filter for the relevant pose landmarks \n",
    "    \n",
    "    #avg_data = np.array([data[j:j+3].sum(axis=0)/np.ones((82, 3))*3 for j in range(int(data.shape[0]/3))])\n",
    "#     if n>2: \n",
    "#         avg_data = np.array([np.nanmean(data[p:p+2], axis = 0) for p in range(int(n/2))])\n",
    "    \n",
    "#         avg_data = np.reshape(avg_data, (int(n/2), len(point_landmarks)*3)).astype(np.float32) # flatten the x,y,z dimension of data again \n",
    "#     else: \n",
    "    avg_data = np.reshape(data, (n, len(point_landmarks)*3)).astype(np.float32)\n",
    "            \n",
    "    \n",
    "    x_ragged.append(avg_data)\n",
    "    \n",
    "    y.append(train.iloc[i].label)\n",
    "\n",
    "\n",
    "x_ragged = np.array(x_ragged)\n",
    "\n",
    "y = np.array(y)\n",
    "\n",
    "x = tf.keras.utils.pad_sequences(\n",
    "    x_ragged, padding=\"post\", truncating=\"post\", maxlen = max_length, dtype=np.float32\n",
    ")\n",
    "\n",
    "del x_ragged \n",
    "gc.collect()\n",
    "\n",
    "# print(x_ragged.shape, y.shape)\n",
    "# (examples, only relevant landmarks * dimension of coordinates)\n",
    "# (94477, 82*3) (94477,) \n"
   ]
  },
  {
   "cell_type": "code",
   "execution_count": 4,
   "id": "c9900d8f",
   "metadata": {
    "execution": {
     "iopub.execute_input": "2023-03-27T13:01:50.045961Z",
     "iopub.status.busy": "2023-03-27T13:01:50.045072Z",
     "iopub.status.idle": "2023-03-27T13:01:50.052296Z",
     "shell.execute_reply": "2023-03-27T13:01:50.051315Z"
    },
    "papermill": {
     "duration": 0.014646,
     "end_time": "2023-03-27T13:01:50.054456",
     "exception": false,
     "start_time": "2023-03-27T13:01:50.039810",
     "status": "completed"
    },
    "tags": []
   },
   "outputs": [],
   "source": [
    "class FeatureGenTF(tf.keras.layers.Layer):\n",
    "    def __init__(self):\n",
    "        super().__init__()\n",
    "\n",
    "    def call(self, x):\n",
    "        x = tf.gather(x, point_landmarks, axis=1)\n",
    "        x = tf.image.resize_with_pad(x, max_length, len(point_landmarks))\n",
    "        x = tf.concat([x[...,i] for i in range(3)], -1) #Flatten\n",
    "        x = tf.where(tf.math.is_nan(x), tf.zeros_like(x), x)\n",
    "        x = tf.expand_dims(x,0) # THIS IS SAYING BATCH SIZE ONE TO MODEL YEAAAA\n",
    "        return x"
   ]
  },
  {
   "cell_type": "code",
   "execution_count": 5,
   "id": "dd93d1b3",
   "metadata": {
    "execution": {
     "iopub.execute_input": "2023-03-27T13:01:50.063655Z",
     "iopub.status.busy": "2023-03-27T13:01:50.063384Z",
     "iopub.status.idle": "2023-03-27T13:02:01.142935Z",
     "shell.execute_reply": "2023-03-27T13:02:01.141906Z"
    },
    "papermill": {
     "duration": 11.087282,
     "end_time": "2023-03-27T13:02:01.145866",
     "exception": false,
     "start_time": "2023-03-27T13:01:50.058584",
     "status": "completed"
    },
    "tags": []
   },
   "outputs": [
    {
     "data": {
      "text/plain": [
       "13653"
      ]
     },
     "execution_count": 5,
     "metadata": {},
     "output_type": "execute_result"
    }
   ],
   "source": [
    "# Training Code \n",
    "def get_model(x, y): \n",
    "    model = tf.keras.Sequential([\n",
    "        # the hidden ReLU layers\n",
    "        tf.keras.Input(shape=(max_length, len(point_landmarks)*3), dtype=np.float32), \n",
    "        tf.keras.layers.Masking(mask_value=0, input_shape=(max_length, len(point_landmarks)*3)),\n",
    "        tf.keras.layers.Dense(units=256, activation='relu'), # Generally want hidden layers to be between the size of the input and output layers \n",
    "        tf.keras.layers.Dropout(dropout_rate),\n",
    "        tf.keras.layers.LayerNormalization(), \n",
    "        tf.keras.layers.Dense(units=256, activation='relu'),\n",
    "        tf.keras.layers.Dropout(dropout_rate),\n",
    "        tf.keras.layers.LSTM(256),\n",
    "        tf.keras.layers.Dropout(dropout_rate),\n",
    "        tf.keras.layers.Flatten(),\n",
    "        # the linear output layer \n",
    "        tf.keras.layers.Dense(units = num_classes, activation='softmax', name='outie'), # Output size is <256>\n",
    "    ])\n",
    "    \n",
    "    model.compile(optimizer = \"adam\", loss=\"sparse_categorical_crossentropy\", metrics=[\"accuracy\"])\n",
    "    return model \n",
    "\n",
    "model = get_model(x,y) \n",
    "\n",
    "if training: \n",
    "    X_train, X_test, Y_train, Y_test = train_test_split(x, y, test_size=0.2, random_state=1)\n",
    "\n",
    "    X_train, X_val, Y_train, Y_val = train_test_split(X_train, Y_train, test_size=0.25, random_state=1) \n",
    "    \n",
    "del x , y\n",
    "gc.collect()\n"
   ]
  },
  {
   "cell_type": "code",
   "execution_count": 6,
   "id": "e7670098",
   "metadata": {
    "execution": {
     "iopub.execute_input": "2023-03-27T13:02:01.156413Z",
     "iopub.status.busy": "2023-03-27T13:02:01.155709Z",
     "iopub.status.idle": "2023-03-27T13:20:58.037900Z",
     "shell.execute_reply": "2023-03-27T13:20:58.036679Z"
    },
    "papermill": {
     "duration": 1136.889854,
     "end_time": "2023-03-27T13:20:58.040253",
     "exception": false,
     "start_time": "2023-03-27T13:02:01.150399",
     "status": "completed"
    },
    "tags": []
   },
   "outputs": [
    {
     "name": "stdout",
     "output_type": "stream",
     "text": [
      "Epoch 1/200\n",
      "189/189 [==============================] - 33s 120ms/step - loss: 5.2759 - accuracy: 0.0147 - val_loss: 4.8081 - val_accuracy: 0.0385 - lr: 0.0010\n",
      "Epoch 2/200\n",
      "189/189 [==============================] - 19s 101ms/step - loss: 4.3576 - accuracy: 0.0836 - val_loss: 3.9741 - val_accuracy: 0.1380 - lr: 0.0010\n",
      "Epoch 3/200\n",
      "189/189 [==============================] - 21s 109ms/step - loss: 3.7723 - accuracy: 0.1622 - val_loss: 3.4426 - val_accuracy: 0.2276 - lr: 0.0010\n",
      "Epoch 4/200\n",
      "189/189 [==============================] - 20s 104ms/step - loss: 3.3893 - accuracy: 0.2239 - val_loss: 3.1909 - val_accuracy: 0.2700 - lr: 0.0010\n",
      "Epoch 5/200\n",
      "189/189 [==============================] - 20s 105ms/step - loss: 3.1296 - accuracy: 0.2716 - val_loss: 2.9584 - val_accuracy: 0.3151 - lr: 0.0010\n",
      "Epoch 6/200\n",
      "189/189 [==============================] - 21s 110ms/step - loss: 2.9287 - accuracy: 0.3125 - val_loss: 2.8897 - val_accuracy: 0.3278 - lr: 0.0010\n",
      "Epoch 7/200\n",
      "189/189 [==============================] - 19s 103ms/step - loss: 2.7917 - accuracy: 0.3402 - val_loss: 2.6611 - val_accuracy: 0.3776 - lr: 0.0010\n",
      "Epoch 8/200\n",
      "189/189 [==============================] - 20s 108ms/step - loss: 2.6470 - accuracy: 0.3718 - val_loss: 2.5480 - val_accuracy: 0.4013 - lr: 0.0010\n",
      "Epoch 9/200\n",
      "189/189 [==============================] - 20s 106ms/step - loss: 2.5441 - accuracy: 0.3924 - val_loss: 2.4345 - val_accuracy: 0.4250 - lr: 0.0010\n",
      "Epoch 10/200\n",
      "189/189 [==============================] - 20s 104ms/step - loss: 2.4573 - accuracy: 0.4097 - val_loss: 2.3954 - val_accuracy: 0.4323 - lr: 0.0010\n",
      "Epoch 11/200\n",
      "189/189 [==============================] - 20s 107ms/step - loss: 2.3828 - accuracy: 0.4257 - val_loss: 2.4198 - val_accuracy: 0.4260 - lr: 0.0010\n",
      "Epoch 12/200\n",
      "189/189 [==============================] - 20s 107ms/step - loss: 2.2754 - accuracy: 0.4488 - val_loss: 2.2511 - val_accuracy: 0.4698 - lr: 0.0010\n",
      "Epoch 13/200\n",
      "189/189 [==============================] - 19s 102ms/step - loss: 2.2267 - accuracy: 0.4595 - val_loss: 2.2674 - val_accuracy: 0.4626 - lr: 0.0010\n",
      "Epoch 14/200\n",
      "189/189 [==============================] - 20s 108ms/step - loss: 2.1645 - accuracy: 0.4729 - val_loss: 2.1705 - val_accuracy: 0.4917 - lr: 0.0010\n",
      "Epoch 15/200\n",
      "189/189 [==============================] - 21s 111ms/step - loss: 2.1130 - accuracy: 0.4839 - val_loss: 2.1803 - val_accuracy: 0.4818 - lr: 0.0010\n",
      "Epoch 16/200\n",
      "189/189 [==============================] - 20s 106ms/step - loss: 2.0680 - accuracy: 0.4924 - val_loss: 2.1376 - val_accuracy: 0.4932 - lr: 0.0010\n",
      "Epoch 17/200\n",
      "189/189 [==============================] - 20s 108ms/step - loss: 2.0243 - accuracy: 0.5027 - val_loss: 2.0495 - val_accuracy: 0.5146 - lr: 0.0010\n",
      "Epoch 18/200\n",
      "189/189 [==============================] - 20s 103ms/step - loss: 1.9723 - accuracy: 0.5153 - val_loss: 2.0386 - val_accuracy: 0.5164 - lr: 0.0010\n",
      "Epoch 19/200\n",
      "189/189 [==============================] - 20s 107ms/step - loss: 1.9391 - accuracy: 0.5206 - val_loss: 2.0650 - val_accuracy: 0.5071 - lr: 0.0010\n",
      "Epoch 20/200\n",
      "189/189 [==============================] - 21s 109ms/step - loss: 1.9003 - accuracy: 0.5304 - val_loss: 1.9904 - val_accuracy: 0.5306 - lr: 0.0010\n",
      "Epoch 21/200\n",
      "189/189 [==============================] - 20s 108ms/step - loss: 1.8652 - accuracy: 0.5395 - val_loss: 1.9556 - val_accuracy: 0.5327 - lr: 0.0010\n",
      "Epoch 22/200\n",
      "189/189 [==============================] - 20s 108ms/step - loss: 1.8340 - accuracy: 0.5439 - val_loss: 1.9695 - val_accuracy: 0.5279 - lr: 0.0010\n",
      "Epoch 23/200\n",
      "189/189 [==============================] - 20s 105ms/step - loss: 1.7905 - accuracy: 0.5547 - val_loss: 1.9558 - val_accuracy: 0.5321 - lr: 0.0010\n",
      "Epoch 24/200\n",
      "189/189 [==============================] - 20s 105ms/step - loss: 1.7636 - accuracy: 0.5591 - val_loss: 2.0199 - val_accuracy: 0.5155 - lr: 0.0010\n",
      "Epoch 25/200\n",
      "189/189 [==============================] - 20s 107ms/step - loss: 1.7435 - accuracy: 0.5659 - val_loss: 1.9207 - val_accuracy: 0.5444 - lr: 0.0010\n",
      "Epoch 26/200\n",
      "189/189 [==============================] - 20s 108ms/step - loss: 1.7222 - accuracy: 0.5664 - val_loss: 1.9039 - val_accuracy: 0.5484 - lr: 0.0010\n",
      "Epoch 27/200\n",
      "189/189 [==============================] - 20s 108ms/step - loss: 1.6928 - accuracy: 0.5772 - val_loss: 1.9020 - val_accuracy: 0.5490 - lr: 0.0010\n",
      "Epoch 28/200\n",
      "189/189 [==============================] - 21s 109ms/step - loss: 1.6611 - accuracy: 0.5820 - val_loss: 1.8986 - val_accuracy: 0.5483 - lr: 0.0010\n",
      "Epoch 29/200\n",
      "189/189 [==============================] - 20s 107ms/step - loss: 1.6547 - accuracy: 0.5850 - val_loss: 1.8778 - val_accuracy: 0.5521 - lr: 0.0010\n",
      "Epoch 30/200\n",
      "189/189 [==============================] - 20s 105ms/step - loss: 1.6074 - accuracy: 0.5955 - val_loss: 1.8615 - val_accuracy: 0.5586 - lr: 0.0010\n",
      "Epoch 31/200\n",
      "189/189 [==============================] - 20s 107ms/step - loss: 1.6035 - accuracy: 0.5957 - val_loss: 1.8523 - val_accuracy: 0.5608 - lr: 0.0010\n",
      "Epoch 32/200\n",
      "189/189 [==============================] - 20s 103ms/step - loss: 1.5945 - accuracy: 0.5979 - val_loss: 1.8468 - val_accuracy: 0.5620 - lr: 0.0010\n",
      "Epoch 33/200\n",
      "189/189 [==============================] - 21s 110ms/step - loss: 1.5548 - accuracy: 0.6072 - val_loss: 1.8427 - val_accuracy: 0.5648 - lr: 0.0010\n",
      "Epoch 34/200\n",
      "189/189 [==============================] - 21s 112ms/step - loss: 1.5336 - accuracy: 0.6108 - val_loss: 1.8169 - val_accuracy: 0.5718 - lr: 0.0010\n",
      "Epoch 35/200\n",
      "189/189 [==============================] - 20s 106ms/step - loss: 1.5277 - accuracy: 0.6132 - val_loss: 1.8282 - val_accuracy: 0.5692 - lr: 0.0010\n",
      "Epoch 36/200\n",
      "189/189 [==============================] - 21s 111ms/step - loss: 1.5076 - accuracy: 0.6153 - val_loss: 1.8012 - val_accuracy: 0.5766 - lr: 0.0010\n",
      "Epoch 37/200\n",
      "189/189 [==============================] - 21s 109ms/step - loss: 1.5011 - accuracy: 0.6175 - val_loss: 1.7966 - val_accuracy: 0.5783 - lr: 0.0010\n",
      "Epoch 38/200\n",
      "189/189 [==============================] - 20s 108ms/step - loss: 1.4794 - accuracy: 0.6222 - val_loss: 1.7834 - val_accuracy: 0.5831 - lr: 0.0010\n",
      "Epoch 39/200\n",
      "189/189 [==============================] - 20s 108ms/step - loss: 1.4638 - accuracy: 0.6246 - val_loss: 1.8052 - val_accuracy: 0.5764 - lr: 0.0010\n",
      "Epoch 40/200\n",
      "189/189 [==============================] - 20s 107ms/step - loss: 1.4383 - accuracy: 0.6341 - val_loss: 1.7888 - val_accuracy: 0.5788 - lr: 0.0010\n",
      "Epoch 41/200\n",
      "189/189 [==============================] - 21s 110ms/step - loss: 1.4154 - accuracy: 0.6393 - val_loss: 1.8360 - val_accuracy: 0.5691 - lr: 0.0010\n",
      "Epoch 42/200\n",
      "189/189 [==============================] - 21s 111ms/step - loss: 1.4133 - accuracy: 0.6385 - val_loss: 1.7863 - val_accuracy: 0.5832 - lr: 0.0010\n",
      "Epoch 43/200\n",
      "189/189 [==============================] - 20s 108ms/step - loss: 1.3929 - accuracy: 0.6415 - val_loss: 1.7919 - val_accuracy: 0.5830 - lr: 0.0010\n",
      "Epoch 44/200\n",
      "189/189 [==============================] - 20s 106ms/step - loss: 1.3838 - accuracy: 0.6430 - val_loss: 1.7962 - val_accuracy: 0.5777 - lr: 0.0010\n",
      "Epoch 45/200\n",
      "189/189 [==============================] - 21s 110ms/step - loss: 1.3727 - accuracy: 0.6453 - val_loss: 1.7862 - val_accuracy: 0.5829 - lr: 0.0010\n",
      "Epoch 46/200\n",
      "189/189 [==============================] - 20s 103ms/step - loss: 1.3559 - accuracy: 0.6510 - val_loss: 1.8094 - val_accuracy: 0.5786 - lr: 0.0010\n",
      "Epoch 47/200\n",
      "189/189 [==============================] - 20s 107ms/step - loss: 1.3415 - accuracy: 0.6520 - val_loss: 1.7780 - val_accuracy: 0.5897 - lr: 0.0010\n",
      "Epoch 48/200\n",
      "189/189 [==============================] - 21s 109ms/step - loss: 1.3278 - accuracy: 0.6561 - val_loss: 1.7739 - val_accuracy: 0.5908 - lr: 0.0010\n",
      "Epoch 49/200\n",
      "189/189 [==============================] - 20s 103ms/step - loss: 1.3233 - accuracy: 0.6575 - val_loss: 1.8068 - val_accuracy: 0.5814 - lr: 0.0010\n",
      "Epoch 50/200\n",
      "189/189 [==============================] - 21s 111ms/step - loss: 1.3169 - accuracy: 0.6574 - val_loss: 1.7755 - val_accuracy: 0.5911 - lr: 0.0010\n",
      "Epoch 51/200\n",
      "189/189 [==============================] - 21s 112ms/step - loss: 1.3201 - accuracy: 0.6552 - val_loss: 1.7756 - val_accuracy: 0.5908 - lr: 0.0010\n",
      "Epoch 52/200\n",
      "189/189 [==============================] - 19s 103ms/step - loss: 1.2823 - accuracy: 0.6662 - val_loss: 1.8398 - val_accuracy: 0.5721 - lr: 0.0010\n",
      "Epoch 53/200\n",
      "189/189 [==============================] - 21s 110ms/step - loss: 1.2651 - accuracy: 0.6701 - val_loss: 1.8014 - val_accuracy: 0.5870 - lr: 0.0010\n",
      "Epoch 54/200\n",
      "189/189 [==============================] - 21s 111ms/step - loss: 1.2636 - accuracy: 0.6713 - val_loss: 1.8088 - val_accuracy: 0.5818 - lr: 0.0010\n",
      "Epoch 55/200\n",
      "189/189 [==============================] - 20s 107ms/step - loss: 1.2549 - accuracy: 0.6720 - val_loss: 1.7808 - val_accuracy: 0.5899 - lr: 0.0010\n",
      "591/591 - 4s - loss: 1.7755 - accuracy: 0.5911 - 4s/epoch - 8ms/step\n",
      "Restored model, accuracy: 59.11%\n"
     ]
    }
   ],
   "source": [
    "\n",
    "callbacks = [\n",
    "        EarlyStopping(\n",
    "                monitor = \"val_accuracy\",\n",
    "                min_delta = 0, # minimium amount of change to count as an improvement\n",
    "                patience = 5, # how many epochs to wait before stopping\n",
    "                restore_best_weights=True),\n",
    "    \n",
    "        ReduceLROnPlateau(monitor = \"val_accuracy\",\n",
    "            factor = 0.5,\n",
    "            patience = 5)\n",
    "            ]\n",
    "\n",
    "history = model.fit(X_train, Y_train, \n",
    "              batch_size=batch_size, \n",
    "              epochs=epochs,\n",
    "              validation_data = (X_val, Y_val), \n",
    "              callbacks=[callbacks])\n",
    "\n",
    "loss, acc = model.evaluate(X_val, Y_val, verbose=2)\n",
    "print(\"Restored model, accuracy: {:5.2f}%\".format(100 * acc))"
   ]
  },
  {
   "cell_type": "code",
   "execution_count": 7,
   "id": "c518a72f",
   "metadata": {
    "execution": {
     "iopub.execute_input": "2023-03-27T13:20:59.258563Z",
     "iopub.status.busy": "2023-03-27T13:20:59.258193Z",
     "iopub.status.idle": "2023-03-27T13:20:59.290426Z",
     "shell.execute_reply": "2023-03-27T13:20:59.289580Z"
    },
    "papermill": {
     "duration": 0.688514,
     "end_time": "2023-03-27T13:20:59.308092",
     "exception": false,
     "start_time": "2023-03-27T13:20:58.619578",
     "status": "completed"
    },
    "tags": []
   },
   "outputs": [
    {
     "name": "stdout",
     "output_type": "stream",
     "text": [
      "Model: \"sequential\"\n",
      "_________________________________________________________________\n",
      " Layer (type)                Output Shape              Param #   \n",
      "=================================================================\n",
      " masking (Masking)           (None, 30, 246)           0         \n",
      "                                                                 \n",
      " dense (Dense)               (None, 30, 256)           63232     \n",
      "                                                                 \n",
      " dropout (Dropout)           (None, 30, 256)           0         \n",
      "                                                                 \n",
      " layer_normalization (LayerN  (None, 30, 256)          512       \n",
      " ormalization)                                                   \n",
      "                                                                 \n",
      " dense_1 (Dense)             (None, 30, 256)           65792     \n",
      "                                                                 \n",
      " dropout_1 (Dropout)         (None, 30, 256)           0         \n",
      "                                                                 \n",
      " lstm (LSTM)                 (None, 256)               525312    \n",
      "                                                                 \n",
      " dropout_2 (Dropout)         (None, 256)               0         \n",
      "                                                                 \n",
      " flatten (Flatten)           (None, 256)               0         \n",
      "                                                                 \n",
      " outie (Dense)               (None, 250)               64250     \n",
      "                                                                 \n",
      "=================================================================\n",
      "Total params: 719,098\n",
      "Trainable params: 719,098\n",
      "Non-trainable params: 0\n",
      "_________________________________________________________________\n"
     ]
    }
   ],
   "source": [
    "model.summary()"
   ]
  },
  {
   "cell_type": "code",
   "execution_count": 8,
   "id": "fa8d2faa",
   "metadata": {
    "execution": {
     "iopub.execute_input": "2023-03-27T13:21:00.517880Z",
     "iopub.status.busy": "2023-03-27T13:21:00.517070Z",
     "iopub.status.idle": "2023-03-27T13:21:00.522874Z",
     "shell.execute_reply": "2023-03-27T13:21:00.521882Z"
    },
    "papermill": {
     "duration": 0.641131,
     "end_time": "2023-03-27T13:21:00.525027",
     "exception": false,
     "start_time": "2023-03-27T13:20:59.883896",
     "status": "completed"
    },
    "tags": []
   },
   "outputs": [],
   "source": [
    "# pruning_params = {\n",
    "#       'pruning_schedule': tfmot.sparsity.keras.PolynomialDecay(initial_sparsity=0.50,\n",
    "#                                                                final_sparsity=0.80,\n",
    "#                                                                begin_step=0,\n",
    "#                                                                end_step=2)\n",
    "# }\n",
    "# prune_low_magnitude = tfmot.sparsity.keras.prune_low_magnitude\n",
    "# pruned_model = prune_low_magnitude(model, **pruning_params)\n",
    "\n",
    "\n",
    "# callbacks =   [tfmot.sparsity.keras.UpdatePruningStep()]\n",
    "\n",
    "\n",
    "# pruned_model.compile(optimizer='adam',\n",
    "#               loss=tf.keras.losses.SparseCategoricalCrossentropy(from_logits=True),\n",
    "#               metrics=['accuracy'])\n",
    "\n",
    "# pruned_model.fit(X_train, Y_train, batch_size = batch_size, epochs =2, validation_data = (X_val, Y_val), callbacks = callbacks)\n",
    "\n",
    "# loss, acc = pruned_model.evaluate(X_val, Y_val, verbose=2)\n",
    "\n",
    "# pruned_model.summary()"
   ]
  },
  {
   "cell_type": "code",
   "execution_count": 9,
   "id": "ecccbcd7",
   "metadata": {
    "execution": {
     "iopub.execute_input": "2023-03-27T13:21:01.730241Z",
     "iopub.status.busy": "2023-03-27T13:21:01.729073Z",
     "iopub.status.idle": "2023-03-27T13:21:02.031910Z",
     "shell.execute_reply": "2023-03-27T13:21:02.030948Z"
    },
    "papermill": {
     "duration": 0.93759,
     "end_time": "2023-03-27T13:21:02.034275",
     "exception": false,
     "start_time": "2023-03-27T13:21:01.096685",
     "status": "completed"
    },
    "tags": []
   },
   "outputs": [
    {
     "name": "stdout",
     "output_type": "stream",
     "text": [
      "<keras.callbacks.History object at 0x7f89806dfdd0>\n"
     ]
    },
    {
     "data": {
      "image/png": "[encoded data removed]",
      "text/plain": [
       "<Figure size 640x480 with 1 Axes>"
      ]
     },
     "metadata": {},
     "output_type": "display_data"
    }
   ],
   "source": [
    "import matplotlib.pyplot as plt\n",
    "\n",
    "print(history)\n",
    "plt.plot(history.history['accuracy'])\n",
    "plt.plot(history.history['val_accuracy'])\n",
    "plt.title('model accuracy')\n",
    "plt.ylabel('accuracy')\n",
    "plt.xlabel('epoch')\n",
    "plt.legend(['train', 'test'], loc='upper left')\n",
    "plt.show()"
   ]
  },
  {
   "cell_type": "code",
   "execution_count": 10,
   "id": "a0c65ac5",
   "metadata": {
    "execution": {
     "iopub.execute_input": "2023-03-27T13:21:03.244696Z",
     "iopub.status.busy": "2023-03-27T13:21:03.244319Z",
     "iopub.status.idle": "2023-03-27T13:21:03.454983Z",
     "shell.execute_reply": "2023-03-27T13:21:03.453948Z"
    },
    "papermill": {
     "duration": 0.853357,
     "end_time": "2023-03-27T13:21:03.457392",
     "exception": false,
     "start_time": "2023-03-27T13:21:02.604035",
     "status": "completed"
    },
    "tags": []
   },
   "outputs": [
    {
     "data": {
      "image/png": "[encoded data removed]",
      "text/plain": [
       "<Figure size 640x480 with 1 Axes>"
      ]
     },
     "metadata": {},
     "output_type": "display_data"
    }
   ],
   "source": [
    "plt.plot(history.history['loss'])\n",
    "plt.plot(history.history['val_loss'])\n",
    "plt.title('model loss')\n",
    "plt.ylabel('loss')\n",
    "plt.xlabel('epoch')\n",
    "plt.legend(['train', 'test'], loc='upper left')\n",
    "plt.show()"
   ]
  },
  {
   "cell_type": "code",
   "execution_count": 11,
   "id": "e8486110",
   "metadata": {
    "execution": {
     "iopub.execute_input": "2023-03-27T13:21:04.613056Z",
     "iopub.status.busy": "2023-03-27T13:21:04.612660Z",
     "iopub.status.idle": "2023-03-27T13:21:04.620111Z",
     "shell.execute_reply": "2023-03-27T13:21:04.619051Z"
    },
    "papermill": {
     "duration": 0.589548,
     "end_time": "2023-03-27T13:21:04.622312",
     "exception": false,
     "start_time": "2023-03-27T13:21:04.032764",
     "status": "completed"
    },
    "tags": []
   },
   "outputs": [],
   "source": [
    "preprocessing = FeatureGenTF()\n",
    "\n",
    "def get_inference_model(model):\n",
    "    inputs = tf.keras.Input((543, 3), dtype=tf.float32, name=\"inputs\") \n",
    "    x = preprocessing(inputs)\n",
    "    x = model(x)\n",
    "    \n",
    "    output = tf.keras.layers.Activation(activation=\"linear\", name=\"outputs\")(x)\n",
    "    \n",
    "    inference_model = tf.keras.Model(inputs=inputs, outputs=output) \n",
    "    \n",
    "    inference_model.compile(loss=tf.keras.losses.SparseCategoricalCrossentropy(), metrics=[\"accuracy\"])\n",
    "    \n",
    "    return inference_model"
   ]
  },
  {
   "cell_type": "code",
   "execution_count": 12,
   "id": "a737e53e",
   "metadata": {
    "execution": {
     "iopub.execute_input": "2023-03-27T13:21:05.824735Z",
     "iopub.status.busy": "2023-03-27T13:21:05.823775Z",
     "iopub.status.idle": "2023-03-27T13:21:24.740880Z",
     "shell.execute_reply": "2023-03-27T13:21:24.739673Z"
    },
    "papermill": {
     "duration": 19.514461,
     "end_time": "2023-03-27T13:21:24.766251",
     "exception": false,
     "start_time": "2023-03-27T13:21:05.251790",
     "status": "completed"
    },
    "tags": []
   },
   "outputs": [
    {
     "name": "stdout",
     "output_type": "stream",
     "text": [
      "MODEL SIZE\n",
      "2932540\n",
      "  adding: model.tflite (deflated 9%)\r\n",
      "Model: \"model\"\n",
      "_________________________________________________________________\n",
      " Layer (type)                Output Shape              Param #   \n",
      "=================================================================\n",
      " inputs (InputLayer)         [(None, 543, 3)]          0         \n",
      "                                                                 \n",
      " feature_gen_tf (FeatureGenT  (1, 30, 246)             0         \n",
      " F)                                                              \n",
      "                                                                 \n",
      " sequential (Sequential)     (None, 250)               719098    \n",
      "|¯¯¯¯¯¯¯¯¯¯¯¯¯¯¯¯¯¯¯¯¯¯¯¯¯¯¯¯¯¯¯¯¯¯¯¯¯¯¯¯¯¯¯¯¯¯¯¯¯¯¯¯¯¯¯¯¯¯¯¯¯¯¯|\n",
      "| masking (Masking)         (None, 30, 246)           0         |\n",
      "|                                                               |\n",
      "| dense (Dense)             (None, 30, 256)           63232     |\n",
      "|                                                               |\n",
      "| dropout (Dropout)         (None, 30, 256)           0         |\n",
      "|                                                               |\n",
      "| layer_normalization (LayerN  (None, 30, 256)        512       |\n",
      "| ormalization)                                                 |\n",
      "|                                                               |\n",
      "| dense_1 (Dense)           (None, 30, 256)           65792     |\n",
      "|                                                               |\n",
      "| dropout_1 (Dropout)       (None, 30, 256)           0         |\n",
      "|                                                               |\n",
      "| lstm (LSTM)               (None, 256)               525312    |\n",
      "|                                                               |\n",
      "| dropout_2 (Dropout)       (None, 256)               0         |\n",
      "|                                                               |\n",
      "| flatten (Flatten)         (None, 256)               0         |\n",
      "|                                                               |\n",
      "| outie (Dense)             (None, 250)               64250     |\n",
      "¯¯¯¯¯¯¯¯¯¯¯¯¯¯¯¯¯¯¯¯¯¯¯¯¯¯¯¯¯¯¯¯¯¯¯¯¯¯¯¯¯¯¯¯¯¯¯¯¯¯¯¯¯¯¯¯¯¯¯¯¯¯¯¯¯\n",
      " outputs (Activation)        (1, 250)                  0         \n",
      "                                                                 \n",
      "=================================================================\n",
      "Total params: 719,098\n",
      "Trainable params: 719,098\n",
      "Non-trainable params: 0\n",
      "_________________________________________________________________\n"
     ]
    }
   ],
   "source": [
    "\n",
    "inference_model = get_inference_model(model)\n",
    "\n",
    "converter = tf.lite.TFLiteConverter.from_keras_model(inference_model)\n",
    "tflite_model = converter.convert()\n",
    "model_path = \"model.tflite\"\n",
    "\n",
    "with open(model_path, 'wb') as f:\n",
    "    f.write(tflite_model)\n",
    "\n",
    "print(\"MODEL SIZE\")\n",
    "print(os.stat('model.tflite').st_size)\n",
    "\n",
    "!zip submission.zip $model_path\n",
    "\n",
    "inference_model.summary(expand_nested=True)"
   ]
  },
  {
   "cell_type": "code",
   "execution_count": 13,
   "id": "1f5a2152",
   "metadata": {
    "execution": {
     "iopub.execute_input": "2023-03-27T13:21:25.968860Z",
     "iopub.status.busy": "2023-03-27T13:21:25.968473Z",
     "iopub.status.idle": "2023-03-27T13:21:25.974310Z",
     "shell.execute_reply": "2023-03-27T13:21:25.973220Z"
    },
    "papermill": {
     "duration": 0.640073,
     "end_time": "2023-03-27T13:21:25.976478",
     "exception": false,
     "start_time": "2023-03-27T13:21:25.336405",
     "status": "completed"
    },
    "tags": []
   },
   "outputs": [],
   "source": [
    "# !pip install tflite-runtime"
   ]
  },
  {
   "cell_type": "code",
   "execution_count": 14,
   "id": "7dd74674",
   "metadata": {
    "execution": {
     "iopub.execute_input": "2023-03-27T13:21:27.319602Z",
     "iopub.status.busy": "2023-03-27T13:21:27.319115Z",
     "iopub.status.idle": "2023-03-27T13:21:27.324308Z",
     "shell.execute_reply": "2023-03-27T13:21:27.323374Z"
    },
    "papermill": {
     "duration": 0.784682,
     "end_time": "2023-03-27T13:21:27.328839",
     "exception": false,
     "start_time": "2023-03-27T13:21:26.544157",
     "status": "completed"
    },
    "tags": []
   },
   "outputs": [],
   "source": [
    "# import tflite_runtime.interpreter as tflite\n",
    "\n",
    "# def load_relevant_data_subset(pq_path):\n",
    "#     data_columns = ['x', 'y', 'z']\n",
    "#     data = pd.read_parquet(pq_path, columns=data_columns)\n",
    "#     n_frames = int(len(data) / ROWS_PER_FRAME)\n",
    "#     data = data.values.reshape(n_frames, ROWS_PER_FRAME, len(data_columns))\n",
    "#     return data.astype(np.float32)\n",
    "\n",
    "\n",
    "# frames = load_relevant_data_subset(os.path.join(BASE_TRAIN_PATH, train.iloc[11].path))\n",
    "\n",
    "# interpreter = tflite.Interpreter(model_path)\n",
    "\n",
    "# found_signatures = list(interpreter.get_signature_list().keys())\n",
    "# prediction_fn = interpreter.get_signature_runner(\"serving_default\")\n",
    "# output = prediction_fn(inputs=frames)\n",
    "# sign = np.argmax(output[\"outputs\"])\n",
    "# print(train.iloc[1].label)\n"
   ]
  }
 ],
 "metadata": {
  "kernelspec": {
   "display_name": "Python 3",
   "language": "python",
   "name": "python3"
  },
  "language_info": {
   "codemirror_mode": {
    "name": "ipython",
    "version": 3
   },
   "file_extension": ".py",
   "mimetype": "text/x-python",
   "name": "python",
   "nbconvert_exporter": "python",
   "pygments_lexer": "ipython3",
   "version": "3.7.12"
  },
  "papermill": {
   "default_parameters": {},
   "duration": 2701.602846,
   "end_time": "2023-03-27T13:21:31.966677",
   "environment_variables": {},
   "exception": null,
   "input_path": "__notebook__.ipynb",
   "output_path": "__notebook__.ipynb",
   "parameters": {},
   "start_time": "2023-03-27T12:36:30.363831",
   "version": "2.4.0"
  },
  "widgets": {
   "application/vnd.jupyter.widget-state+json": {
    "state": {
     "0b452c36db314368bec9bfb6f3098b18": {
      "model_module": "@jupyter-widgets/controls",
      "model_module_version": "1.5.0",
      "model_name": "FloatProgressModel",
      "state": {
       "_dom_classes": [],
       "_model_module": "@jupyter-widgets/controls",
       "_model_module_version": "1.5.0",
       "_model_name": "FloatProgressModel",
       "_view_count": null,
       "_view_module": "@jupyter-widgets/controls",
       "_view_module_version": "1.5.0",
       "_view_name": "ProgressView",
       "bar_style": "success",
       "description": "",
       "description_tooltip": null,
       "layout": "IPY_MODEL_596f01913d1c49a1b3715b8239a1962e",
       "max": 94477.0,
       "min": 0.0,
       "orientation": "horizontal",
       "style": "IPY_MODEL_15838f353a134e76881021a392f90758",
       "value": 94477.0
      }
     },
     "15838f353a134e76881021a392f90758": {
      "model_module": "@jupyter-widgets/controls",
      "model_module_version": "1.5.0",
      "model_name": "ProgressStyleModel",
      "state": {
       "_model_module": "@jupyter-widgets/controls",
       "_model_module_version": "1.5.0",
       "_model_name": "ProgressStyleModel",
       "_view_count": null,
       "_view_module": "@jupyter-widgets/base",
       "_view_module_version": "1.2.0",
       "_view_name": "StyleView",
       "bar_color": null,
       "description_width": ""
      }
     },
     "26d4a9ba187b4310a5d2e64aaad08bc6": {
      "model_module": "@jupyter-widgets/controls",
      "model_module_version": "1.5.0",
      "model_name": "HTMLModel",
      "state": {
       "_dom_classes": [],
       "_model_module": "@jupyter-widgets/controls",
       "_model_module_version": "1.5.0",
       "_model_name": "HTMLModel",
       "_view_count": null,
       "_view_module": "@jupyter-widgets/controls",
       "_view_module_version": "1.5.0",
       "_view_name": "HTMLView",
       "description": "",
       "description_tooltip": null,
       "layout": "IPY_MODEL_9d70c0259d3e487790491db2a11f2360",
       "placeholder": "​",
       "style": "IPY_MODEL_ae0a8d81756a4f8b8333a2f3bfeae498",
       "value": " 94477/94477 [24:46&lt;00:00, 54.37it/s]"
      }
     },
     "596f01913d1c49a1b3715b8239a1962e": {
      "model_module": "@jupyter-widgets/base",
      "model_module_version": "1.2.0",
      "model_name": "LayoutModel",
      "state": {
       "_model_module": "@jupyter-widgets/base",
       "_model_module_version": "1.2.0",
       "_model_name": "LayoutModel",
       "_view_count": null,
       "_view_module": "@jupyter-widgets/base",
       "_view_module_version": "1.2.0",
       "_view_name": "LayoutView",
       "align_content": null,
       "align_items": null,
       "align_self": null,
       "border": null,
       "bottom": null,
       "display": null,
       "flex": null,
       "flex_flow": null,
       "grid_area": null,
       "grid_auto_columns": null,
       "grid_auto_flow": null,
       "grid_auto_rows": null,
       "grid_column": null,
       "grid_gap": null,
       "grid_row": null,
       "grid_template_areas": null,
       "grid_template_columns": null,
       "grid_template_rows": null,
       "height": null,
       "justify_content": null,
       "justify_items": null,
       "left": null,
       "margin": null,
       "max_height": null,
       "max_width": null,
       "min_height": null,
       "min_width": null,
       "object_fit": null,
       "object_position": null,
       "order": null,
       "overflow": null,
       "overflow_x": null,
       "overflow_y": null,
       "padding": null,
       "right": null,
       "top": null,
       "visibility": null,
       "width": null
      }
     },
     "65f8cc61ca8f4ae6a6db1bcb2e0723c8": {
      "model_module": "@jupyter-widgets/controls",
      "model_module_version": "1.5.0",
      "model_name": "DescriptionStyleModel",
      "state": {
       "_model_module": "@jupyter-widgets/controls",
       "_model_module_version": "1.5.0",
       "_model_name": "DescriptionStyleModel",
       "_view_count": null,
       "_view_module": "@jupyter-widgets/base",
       "_view_module_version": "1.2.0",
       "_view_name": "StyleView",
       "description_width": ""
      }
     },
     "9d70c0259d3e487790491db2a11f2360": {
      "model_module": "@jupyter-widgets/base",
      "model_module_version": "1.2.0",
      "model_name": "LayoutModel",
      "state": {
       "_model_module": "@jupyter-widgets/base",
       "_model_module_version": "1.2.0",
       "_model_name": "LayoutModel",
       "_view_count": null,
       "_view_module": "@jupyter-widgets/base",
       "_view_module_version": "1.2.0",
       "_view_name": "LayoutView",
       "align_content": null,
       "align_items": null,
       "align_self": null,
       "border": null,
       "bottom": null,
       "display": null,
       "flex": null,
       "flex_flow": null,
       "grid_area": null,
       "grid_auto_columns": null,
       "grid_auto_flow": null,
       "grid_auto_rows": null,
       "grid_column": null,
       "grid_gap": null,
       "grid_row": null,
       "grid_template_areas": null,
       "grid_template_columns": null,
       "grid_template_rows": null,
       "height": null,
       "justify_content": null,
       "justify_items": null,
       "left": null,
       "margin": null,
       "max_height": null,
       "max_width": null,
       "min_height": null,
       "min_width": null,
       "object_fit": null,
       "object_position": null,
       "order": null,
       "overflow": null,
       "overflow_x": null,
       "overflow_y": null,
       "padding": null,
       "right": null,
       "top": null,
       "visibility": null,
       "width": null
      }
     },
     "ae0a8d81756a4f8b8333a2f3bfeae498": {
      "model_module": "@jupyter-widgets/controls",
      "model_module_version": "1.5.0",
      "model_name": "DescriptionStyleModel",
      "state": {
       "_model_module": "@jupyter-widgets/controls",
       "_model_module_version": "1.5.0",
       "_model_name": "DescriptionStyleModel",
       "_view_count": null,
       "_view_module": "@jupyter-widgets/base",
       "_view_module_version": "1.2.0",
       "_view_name": "StyleView",
       "description_width": ""
      }
     },
     "b8c7ba1111704be78e0ad76dbf5137dc": {
      "model_module": "@jupyter-widgets/base",
      "model_module_version": "1.2.0",
      "model_name": "LayoutModel",
      "state": {
       "_model_module": "@jupyter-widgets/base",
       "_model_module_version": "1.2.0",
       "_model_name": "LayoutModel",
       "_view_count": null,
       "_view_module": "@jupyter-widgets/base",
       "_view_module_version": "1.2.0",
       "_view_name": "LayoutView",
       "align_content": null,
       "align_items": null,
       "align_self": null,
       "border": null,
       "bottom": null,
       "display": null,
       "flex": null,
       "flex_flow": null,
       "grid_area": null,
       "grid_auto_columns": null,
       "grid_auto_flow": null,
       "grid_auto_rows": null,
       "grid_column": null,
       "grid_gap": null,
       "grid_row": null,
       "grid_template_areas": null,
       "grid_template_columns": null,
       "grid_template_rows": null,
       "height": null,
       "justify_content": null,
       "justify_items": null,
       "left": null,
       "margin": null,
       "max_height": null,
       "max_width": null,
       "min_height": null,
       "min_width": null,
       "object_fit": null,
       "object_position": null,
       "order": null,
       "overflow": null,
       "overflow_x": null,
       "overflow_y": null,
       "padding": null,
       "right": null,
       "top": null,
       "visibility": null,
       "width": null
      }
     },
     "cc4dd2b728a9440ab5f1b2c6f54ee274": {
      "model_module": "@jupyter-widgets/base",
      "model_module_version": "1.2.0",
      "model_name": "LayoutModel",
      "state": {
       "_model_module": "@jupyter-widgets/base",
       "_model_module_version": "1.2.0",
       "_model_name": "LayoutModel",
       "_view_count": null,
       "_view_module": "@jupyter-widgets/base",
       "_view_module_version": "1.2.0",
       "_view_name": "LayoutView",
       "align_content": null,
       "align_items": null,
       "align_self": null,
       "border": null,
       "bottom": null,
       "display": null,
       "flex": null,
       "flex_flow": null,
       "grid_area": null,
       "grid_auto_columns": null,
       "grid_auto_flow": null,
       "grid_auto_rows": null,
       "grid_column": null,
       "grid_gap": null,
       "grid_row": null,
       "grid_template_areas": null,
       "grid_template_columns": null,
       "grid_template_rows": null,
       "height": null,
       "justify_content": null,
       "justify_items": null,
       "left": null,
       "margin": null,
       "max_height": null,
       "max_width": null,
       "min_height": null,
       "min_width": null,
       "object_fit": null,
       "object_position": null,
       "order": null,
       "overflow": null,
       "overflow_x": null,
       "overflow_y": null,
       "padding": null,
       "right": null,
       "top": null,
       "visibility": null,
       "width": null
      }
     },
     "cda5ca82dbe3449d8b1d6d4d93e54a6b": {
      "model_module": "@jupyter-widgets/controls",
      "model_module_version": "1.5.0",
      "model_name": "HTMLModel",
      "state": {
       "_dom_classes": [],
       "_model_module": "@jupyter-widgets/controls",
       "_model_module_version": "1.5.0",
       "_model_name": "HTMLModel",
       "_view_count": null,
       "_view_module": "@jupyter-widgets/controls",
       "_view_module_version": "1.5.0",
       "_view_name": "HTMLView",
       "description": "",
       "description_tooltip": null,
       "layout": "IPY_MODEL_b8c7ba1111704be78e0ad76dbf5137dc",
       "placeholder": "​",
       "style": "IPY_MODEL_65f8cc61ca8f4ae6a6db1bcb2e0723c8",
       "value": "100%"
      }
     },
     "e8eba0af71104311b4953715ad04cf02": {
      "model_module": "@jupyter-widgets/controls",
      "model_module_version": "1.5.0",
      "model_name": "HBoxModel",
      "state": {
       "_dom_classes": [],
       "_model_module": "@jupyter-widgets/controls",
       "_model_module_version": "1.5.0",
       "_model_name": "HBoxModel",
       "_view_count": null,
       "_view_module": "@jupyter-widgets/controls",
       "_view_module_version": "1.5.0",
       "_view_name": "HBoxView",
       "box_style": "",
       "children": [
        "IPY_MODEL_cda5ca82dbe3449d8b1d6d4d93e54a6b",
        "IPY_MODEL_0b452c36db314368bec9bfb6f3098b18",
        "IPY_MODEL_26d4a9ba187b4310a5d2e64aaad08bc6"
       ],
       "layout": "IPY_MODEL_cc4dd2b728a9440ab5f1b2c6f54ee274"
      }
     }
    },
    "version_major": 2,
    "version_minor": 0
   }
  }
 },
 "nbformat": 4,
 "nbformat_minor": 5
}
